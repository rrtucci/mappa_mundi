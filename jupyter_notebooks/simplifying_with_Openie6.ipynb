{
 "cells": [
  {
   "cell_type": "markdown",
   "metadata": {
    "id": "wdwpG3gcY0pA"
   },
   "source": [
    "# Simplifying with Openie6\n",
    "\n",
    "The Openie6 software takes as input a possibly complex or compound sentence X,\n",
    "and it returns a list of simple sentences that contain all the\n",
    "information in the original sentence X.\n",
    "\n",
    "Anton Alekseev (AA) and Anastasia Predelina (AP) wrote a jupyter notebook\n",
    "that installs and runs the code in the Openie6 repo https://github.com/alexeyev/openie6\n",
    "An exact copy of notebook by  AA/AP is included in this folder. It is also publicly available at AA's google drive\n",
    "under the URL\n",
    "\n",
    " https://colab.research.google.com/drive/1samvO-SH6Xgjf9ItlhAF1EmBZo5grBQb?usp=sharing\n",
    "\n",
    "\n",
    "\n",
    "This notebook adds new code to the end of the AA/AP notebook. The purpose of the\n",
    "new code is\n",
    "to simplify short stories and movie scripts."
   ]
  },
  {
   "cell_type": "code",
   "execution_count": 1,
   "metadata": {
    "id": "mbN5wPk9aUPg"
   },
   "outputs": [],
   "source": [
    "# decide whether to use GPU or not at the beginning\n",
    "NB_WITH_GPU = True"
   ]
  },
  {
   "cell_type": "markdown",
   "metadata": {
    "id": "jt2y_Nhb3_iI"
   },
   "source": [
    "# IGL-CA: inference pipeline\n",
    "Coordination analysis inference using the OpenIE6 model.\n",
    "\n",
    "* Anton's [OpenIE6 fork](https://github.com/alexeyev/openie6)\n",
    "* [OpenIE6 original repo](https://github.com/dair-iitd/openie6)\n",
    "* [OpenIE6 original paper](https://aclanthology.org/2020.emnlp-main.306/)\n",
    "\n",
    "Prepared by [Anton Alekseev](https://github.com/alexeyev) and [Anastasia Predelina](https://github.com/PredelinaAsya). Quite a bit of effort, tbh.\n",
    "\n",
    "**NOTA BENE**: GPU environment should be enabled before running the code! If not possible, another code cell for CPU-only environment is available at the very end of the notebook."
   ]
  },
  {
   "cell_type": "markdown",
   "metadata": {
    "id": "cazO3i5mAqmF"
   },
   "source": [
    "## Getting the OpenIE6 code"
   ]
  },
  {
   "cell_type": "code",
   "execution_count": 2,
   "metadata": {
    "id": "_k9DVi6DEGNW"
   },
   "outputs": [],
   "source": [
    "# ! rmdir openie6"
   ]
  },
  {
   "cell_type": "code",
   "execution_count": 3,
   "metadata": {
    "colab": {
     "base_uri": "https://localhost:8080/"
    },
    "id": "id7y2Z5S3_K1",
    "outputId": "0cbb295d-9e4b-4956-c3a8-2672e344e6f3"
   },
   "outputs": [
    {
     "name": "stdout",
     "output_type": "stream",
     "text": [
      "Cloning into 'openie6'...\n",
      "remote: Enumerating objects: 1882, done.\u001b[K\n",
      "remote: Counting objects: 100% (62/62), done.\u001b[K\n",
      "remote: Compressing objects: 100% (44/44), done.\u001b[K\n",
      "remote: Total 1882 (delta 40), reused 26 (delta 18), pack-reused 1820\u001b[K\n",
      "Receiving objects: 100% (1882/1882), 8.52 MiB | 22.31 MiB/s, done.\n",
      "Resolving deltas: 100% (387/387), done.\n"
     ]
    }
   ],
   "source": [
    "! git clone https://github.com/alexeyev/openie6.git"
   ]
  },
  {
   "cell_type": "code",
   "execution_count": 4,
   "metadata": {
    "id": "z4KmZH0x07_E"
   },
   "outputs": [],
   "source": [
    "! mkdir openie6/models"
   ]
  },
  {
   "cell_type": "markdown",
   "metadata": {
    "id": "7ymorrRj-TNi"
   },
   "source": [
    "## Downloading the model\n",
    "\n",
    "Let's get the CA model trained by the paper authors. Re-uploaded it to my gdrive to reduce the downloading time."
   ]
  },
  {
   "cell_type": "code",
   "execution_count": 5,
   "metadata": {
    "colab": {
     "base_uri": "https://localhost:8080/"
    },
    "id": "2f43ryTo0ljc",
    "outputId": "b2ec593e-43df-4ba6-a954-5dc4192b8915",
    "tags": []
   },
   "outputs": [
    {
     "name": "stdout",
     "output_type": "stream",
     "text": [
      "Downloading...\n",
      "From: https://drive.google.com/uc?id=185DK6eWKT6j6Oes04OIVFwJOKri8EVXV\n",
      "To: /content/conj_model.zip\n",
      "100% 3.61G/3.61G [00:31<00:00, 114MB/s]\n"
     ]
    }
   ],
   "source": [
    "# nb = 'amazon'\n",
    "nb = 'google'\n",
    "if nb == 'google':  # colab\n",
    "    # copies from Anton's google drive to /content/conj_model.zip, 3.61 Gb\n",
    "    ! gdown 185DK6eWKT6j6Oes04OIVFwJOKri8EVXV\n",
    "elif nb == 'amazon':  # sagemaker studio lab\n",
    "    # copies from rrtucci google drive to ./conj_model.zip\n",
    "    !wget --load-cookies /tmp/cookies.txt \"https://docs.google.com/uc?export=download&confirm=$(wget --quiet --save-cookies /tmp/cookies.txt --keep-session-cookies --no-check-certificate 'https://docs.google.com/uc?export=download&id=1JAyUs9jvRrpFgw6W8pl2uHVoJPxugEf4' -O- | sed -rn 's/.*confirm=([0-9A-Za-z_]+).*/\\1\\n/p')&id=1JAyUs9jvRrpFgw6W8pl2uHVoJPxugEf4\" -O conj_model.zip && rm -rf /tmp/cookies.txt"
   ]
  },
  {
   "cell_type": "code",
   "execution_count": 6,
   "metadata": {
    "colab": {
     "base_uri": "https://localhost:8080/"
    },
    "id": "SRoar-OAt38f",
    "outputId": "21ff6897-468d-4c2e-c42e-f533583505ac"
   },
   "outputs": [
    {
     "name": "stdout",
     "output_type": "stream",
     "text": [
      "Archive:  conj_model.zip\n",
      "   creating: conj_model/\n",
      "  inflating: conj_model/epoch=28_eval_acc=0.854.ckpt  \n",
      "   creating: conj_model/logs/\n",
      "   creating: conj_model/logs/test/\n",
      "  inflating: conj_model/logs/test.txt  \n",
      "   creating: conj_model/logs/test/checkpoints/\n",
      "  inflating: conj_model/logs/test/events.out.tfevents.1601263425.vsky017.5076.0  \n",
      "  inflating: conj_model/logs/test/events.out.tfevents.1601263521.vsky017.5784.0  \n",
      "  inflating: conj_model/logs/test/hparams.yaml  \n"
     ]
    }
   ],
   "source": [
    "! unzip conj_model.zip"
   ]
  },
  {
   "cell_type": "code",
   "execution_count": 7,
   "metadata": {
    "id": "477V3NGeAEpZ"
   },
   "outputs": [],
   "source": [
    "! rm conj_model.zip*\n",
    "! mv conj_model* openie6/models/"
   ]
  },
  {
   "cell_type": "markdown",
   "metadata": {
    "id": "u6UqAGEiARao"
   },
   "source": [
    "## Creating a text sample"
   ]
  },
  {
   "cell_type": "code",
   "execution_count": 8,
   "metadata": {
    "colab": {
     "base_uri": "https://localhost:8080/"
    },
    "id": "VJ0_AfXm1Hrh",
    "outputId": "ae8f7900-be59-475b-b91c-9c1dd742ba2c"
   },
   "outputs": [
    {
     "name": "stdout",
     "output_type": "stream",
     "text": [
      "The man, who had never liked the words \"booby\" and \"boobyhatch,\" and who liked them even less on a shining morning when there was a unicorn in the garden, thought for a moment.\n",
      "I love Luciano Pavarotti and Jose Carreras.\n"
     ]
    }
   ],
   "source": [
    "ztz1 = 'The man, who had never liked the words' \\\n",
    "  ' \"booby\" and \"boobyhatch,\"' \\\n",
    "  ' and who liked them even less on a shining morning when there' \\\n",
    "  ' was a unicorn in the garden, thought for a moment.'\n",
    "ztz2 = \"I love Luciano Pavarotti and Jose Carreras.\"\n",
    "ztz12 = ztz1 + \"\\n\" + ztz2\n",
    "print(ztz12)\n",
    "with open(\"sentences.txt\", \"w\") as f:\n",
    "  f.write(ztz12)"
   ]
  },
  {
   "cell_type": "markdown",
   "metadata": {
    "id": "EswrqXPXzRtY"
   },
   "source": [
    "## Setting up Python3.6"
   ]
  },
  {
   "cell_type": "code",
   "execution_count": 9,
   "metadata": {
    "colab": {
     "base_uri": "https://localhost:8080/"
    },
    "id": "o2khq941zVnN",
    "outputId": "d805cc60-871c-43aa-bdc4-d9cabad357d4"
   },
   "outputs": [
    {
     "name": "stdout",
     "output_type": "stream",
     "text": [
      "debconf: unable to initialize frontend: Dialog\n",
      "debconf: (No usable dialog-like program is installed, so the dialog based frontend cannot be used. at /usr/share/perl5/Debconf/FrontEnd/Dialog.pm line 76, <> line 9.)\n",
      "debconf: falling back to frontend: Readline\n",
      "debconf: unable to initialize frontend: Readline\n",
      "debconf: (This frontend requires a controlling tty.)\n",
      "debconf: falling back to frontend: Teletype\n",
      "dpkg-preconfigure: unable to re-open stdin: \n",
      "Selecting previously unselected package libpython3.6-minimal:amd64.\n",
      "(Reading database ... 123069 files and directories currently installed.)\n",
      "Preparing to unpack .../0-libpython3.6-minimal_3.6.15-1+focal3_amd64.deb ...\n",
      "Unpacking libpython3.6-minimal:amd64 (3.6.15-1+focal3) ...\n",
      "Selecting previously unselected package python3.6-minimal.\n",
      "Preparing to unpack .../1-python3.6-minimal_3.6.15-1+focal3_amd64.deb ...\n",
      "Unpacking python3.6-minimal (3.6.15-1+focal3) ...\n",
      "Selecting previously unselected package libpython3.6-stdlib:amd64.\n",
      "Preparing to unpack .../2-libpython3.6-stdlib_3.6.15-1+focal3_amd64.deb ...\n",
      "Unpacking libpython3.6-stdlib:amd64 (3.6.15-1+focal3) ...\n",
      "Selecting previously unselected package libpython3.6:amd64.\n",
      "Preparing to unpack .../3-libpython3.6_3.6.15-1+focal3_amd64.deb ...\n",
      "Unpacking libpython3.6:amd64 (3.6.15-1+focal3) ...\n",
      "Selecting previously unselected package libpython3.6-dev:amd64.\n",
      "Preparing to unpack .../4-libpython3.6-dev_3.6.15-1+focal3_amd64.deb ...\n",
      "Unpacking libpython3.6-dev:amd64 (3.6.15-1+focal3) ...\n",
      "Selecting previously unselected package python3.6.\n",
      "Preparing to unpack .../5-python3.6_3.6.15-1+focal3_amd64.deb ...\n",
      "Unpacking python3.6 (3.6.15-1+focal3) ...\n",
      "Selecting previously unselected package python3.6-dev.\n",
      "Preparing to unpack .../6-python3.6-dev_3.6.15-1+focal3_amd64.deb ...\n",
      "Unpacking python3.6-dev (3.6.15-1+focal3) ...\n",
      "Selecting previously unselected package python3.6-lib2to3.\n",
      "Preparing to unpack .../7-python3.6-lib2to3_3.6.15-1+focal3_all.deb ...\n",
      "Unpacking python3.6-lib2to3 (3.6.15-1+focal3) ...\n",
      "Selecting previously unselected package python3.6-distutils.\n",
      "Preparing to unpack .../8-python3.6-distutils_3.6.15-1+focal3_all.deb ...\n",
      "Unpacking python3.6-distutils (3.6.15-1+focal3) ...\n",
      "Setting up libpython3.6-minimal:amd64 (3.6.15-1+focal3) ...\n",
      "Setting up python3.6-lib2to3 (3.6.15-1+focal3) ...\n",
      "Setting up python3.6-minimal (3.6.15-1+focal3) ...\n",
      "Setting up libpython3.6-stdlib:amd64 (3.6.15-1+focal3) ...\n",
      "Setting up python3.6 (3.6.15-1+focal3) ...\n",
      "Setting up python3.6-distutils (3.6.15-1+focal3) ...\n",
      "Setting up libpython3.6:amd64 (3.6.15-1+focal3) ...\n",
      "Setting up libpython3.6-dev:amd64 (3.6.15-1+focal3) ...\n",
      "Setting up python3.6-dev (3.6.15-1+focal3) ...\n",
      "Processing triggers for mime-support (3.64ubuntu1) ...\n",
      "Processing triggers for man-db (2.9.1-1) ...\n"
     ]
    }
   ],
   "source": [
    "! sudo apt-get update -y -qq\n",
    "! sudo apt-get install python3.6 python3.6-distutils python3.6-dev -qq"
   ]
  },
  {
   "cell_type": "code",
   "execution_count": 10,
   "metadata": {
    "colab": {
     "base_uri": "https://localhost:8080/"
    },
    "id": "fsoPj6axIArn",
    "outputId": "4671fcde-22ba-4a54-e076-738623455d2f"
   },
   "outputs": [
    {
     "name": "stdout",
     "output_type": "stream",
     "text": [
      "/usr/bin/python3\t    /usr/bin/python3.6m\n",
      "/usr/bin/python3.10\t    /usr/bin/python3.6m-config\n",
      "/usr/bin/python3.10-config  /usr/bin/python3.8\n",
      "/usr/bin/python3.6\t    /usr/bin/python3.8-config\n",
      "/usr/bin/python3.6-config   /usr/bin/python3-config\n"
     ]
    }
   ],
   "source": [
    "! ls /usr/bin/python3*"
   ]
  },
  {
   "cell_type": "markdown",
   "metadata": {
    "id": "rpxEWJBE-HIr"
   },
   "source": [
    "Here you will have to select `python3.6` manually"
   ]
  },
  {
   "cell_type": "code",
   "execution_count": 11,
   "metadata": {
    "colab": {
     "base_uri": "https://localhost:8080/"
    },
    "id": "2BABFTA9znxw",
    "outputId": "ec0d1647-a20d-41e8-d487-dcdeaae000fa"
   },
   "outputs": [
    {
     "name": "stdout",
     "output_type": "stream",
     "text": [
      "update-alternatives: using /usr/bin/python3.6 to provide /usr/bin/python3 (python3) in auto mode\n",
      "There are 3 choices for the alternative python3 (providing /usr/bin/python3).\n",
      "\n",
      "  Selection    Path                 Priority   Status\n",
      "------------------------------------------------------------\n",
      "* 0            /usr/bin/python3.6    3         auto mode\n",
      "  1            /usr/bin/python3.10   2         manual mode\n",
      "  2            /usr/bin/python3.6    3         manual mode\n",
      "  3            /usr/bin/python3.8    1         manual mode\n",
      "\n",
      "Press <enter> to keep the current choice[*], or type selection number: \n"
     ]
    }
   ],
   "source": [
    "!sudo update-alternatives --install /usr/bin/python3 python3 /usr/bin/python3.6 3\n",
    "!sudo update-alternatives --config python3"
   ]
  },
  {
   "cell_type": "markdown",
   "metadata": {
    "id": "a_6tjiz_-Q4h"
   },
   "source": [
    "## Setting up the dependencies"
   ]
  },
  {
   "cell_type": "code",
   "execution_count": 12,
   "metadata": {
    "colab": {
     "base_uri": "https://localhost:8080/"
    },
    "id": "-sieVk3sIYdq",
    "outputId": "a9b1d189-3d6b-4989-aaf4-e830d6c423ca"
   },
   "outputs": [
    {
     "name": "stdout",
     "output_type": "stream",
     "text": [
      "rm: cannot remove 'get-pip*': No such file or directory\n"
     ]
    }
   ],
   "source": [
    "! rm get-pip*"
   ]
  },
  {
   "cell_type": "code",
   "execution_count": 13,
   "metadata": {
    "colab": {
     "base_uri": "https://localhost:8080/"
    },
    "id": "O9CBvYU00O6L",
    "outputId": "88eff3cb-8c85-41e8-e7a1-85e7a0f1f630"
   },
   "outputs": [
    {
     "name": "stdout",
     "output_type": "stream",
     "text": [
      "Python 3.6.15\n",
      "--2023-06-21 20:22:56--  https://bootstrap.pypa.io/pip/3.6/get-pip.py\n",
      "Resolving bootstrap.pypa.io (bootstrap.pypa.io)... 151.101.0.175, 151.101.64.175, 151.101.128.175, ...\n",
      "Connecting to bootstrap.pypa.io (bootstrap.pypa.io)|151.101.0.175|:443... connected.\n",
      "HTTP request sent, awaiting response... 200 OK\n",
      "Length: 2159061 (2.1M) [text/x-python]\n",
      "Saving to: ‘get-pip.py’\n",
      "\n",
      "get-pip.py          100%[===================>]   2.06M  --.-KB/s    in 0.03s   \n",
      "\n",
      "2023-06-21 20:22:56 (72.5 MB/s) - ‘get-pip.py’ saved [2159061/2159061]\n",
      "\n",
      "Looking in indexes: https://pypi.org/simple, https://us-python.pkg.dev/colab-wheels/public/simple/\n",
      "Collecting pip<22.0\n",
      "  Downloading pip-21.3.1-py3-none-any.whl (1.7 MB)\n",
      "     |████████████████████████████████| 1.7 MB 11.3 MB/s            \n",
      "\u001b[?25hCollecting setuptools\n",
      "  Downloading setuptools-59.6.0-py3-none-any.whl (952 kB)\n",
      "     |████████████████████████████████| 952 kB 59.4 MB/s            \n",
      "\u001b[?25hCollecting wheel\n",
      "  Downloading wheel-0.37.1-py2.py3-none-any.whl (35 kB)\n",
      "Installing collected packages: wheel, setuptools, pip\n",
      "Successfully installed pip-21.3.1 setuptools-59.6.0 wheel-0.37.1\n",
      "\u001b[33mWARNING: Running pip as the 'root' user can result in broken permissions and conflicting behaviour with the system package manager. It is recommended to use a virtual environment instead: https://pip.pypa.io/warnings/venv\u001b[0m\n"
     ]
    }
   ],
   "source": [
    "! python3 --version\n",
    "! wget https://bootstrap.pypa.io/pip/3.6/get-pip.py\n",
    "! python get-pip.py"
   ]
  },
  {
   "cell_type": "markdown",
   "metadata": {
    "id": "W8ebbFgTAkPM"
   },
   "source": [
    "Satisfying a few more dependencies just in case"
   ]
  },
  {
   "cell_type": "code",
   "execution_count": 14,
   "metadata": {
    "colab": {
     "base_uri": "https://localhost:8080/"
    },
    "id": "mz7bmfmZFcc8",
    "outputId": "0947ebdd-12cf-4384-9b6f-e17d75b6813b"
   },
   "outputs": [
    {
     "name": "stdout",
     "output_type": "stream",
     "text": [
      "\u001b[33mWARNING: Running pip as the 'root' user can result in broken permissions and conflicting behaviour with the system package manager. It is recommended to use a virtual environment instead: https://pip.pypa.io/warnings/venv\u001b[0m\n"
     ]
    }
   ],
   "source": [
    "! python -m pip install -q wheel setuptools pip --upgrade"
   ]
  },
  {
   "cell_type": "code",
   "execution_count": 15,
   "metadata": {
    "colab": {
     "base_uri": "https://localhost:8080/"
    },
    "id": "MVVcBd1uApuG",
    "outputId": "5b71ae6c-7e43-4aa8-af62-0ac24f0b9d66"
   },
   "outputs": [
    {
     "name": "stdout",
     "output_type": "stream",
     "text": [
      "     |████████████████████████████████| 12.0 MB 11.6 MB/s            \n",
      "\u001b[?25h  Preparing metadata (setup.py) ... \u001b[?25l\u001b[?25hdone\n",
      "     |████████████████████████████████| 776.8 MB 16 kB/s             \n",
      "     |████████████████████████████████| 123 kB 74.8 MB/s            \n",
      "     |████████████████████████████████| 104 kB 76.9 MB/s            \n",
      "\u001b[?25h  Preparing metadata (setup.py) ... \u001b[?25l\u001b[?25hdone\n",
      "     |████████████████████████████████| 3.7 MB 54.4 MB/s            \n",
      "     |████████████████████████████████| 156 kB 77.5 MB/s            \n",
      "     |████████████████████████████████| 133 kB 62.1 MB/s            \n",
      "     |████████████████████████████████| 82 kB 1.1 MB/s             \n",
      "\u001b[?25h  Preparing metadata (setup.py) ... \u001b[?25l\u001b[?25hdone\n",
      "     |████████████████████████████████| 829 kB 56.0 MB/s            \n",
      "\u001b[?25h  Preparing metadata (setup.py) ... \u001b[?25l\u001b[?25hdone\n",
      "     |████████████████████████████████| 90 kB 8.9 MB/s             \n",
      "     |████████████████████████████████| 3.0 MB 68.8 MB/s            \n",
      "     |████████████████████████████████| 58 kB 6.7 MB/s             \n",
      "     |████████████████████████████████| 3.3 MB 72.9 MB/s            \n",
      "\u001b[?25h  Preparing metadata (setup.py) ... \u001b[?25l\u001b[?25hdone\n",
      "     |████████████████████████████████| 785 kB 81.1 MB/s            \n",
      "     |████████████████████████████████| 1.4 MB 65.9 MB/s            \n",
      "     |████████████████████████████████| 298 kB 78.0 MB/s            \n",
      "     |████████████████████████████████| 88 kB 8.8 MB/s             \n",
      "     |████████████████████████████████| 1.4 MB 72.2 MB/s            \n",
      "\u001b[?25h  Preparing metadata (setup.py) ... \u001b[?25l\u001b[?25hdone\n",
      "     |████████████████████████████████| 14.6 MB 60.1 MB/s            \n",
      "     |████████████████████████████████| 147 kB 75.9 MB/s            \n",
      "\u001b[?25h  Preparing metadata (setup.py) ... \u001b[?25l\u001b[?25hdone\n",
      "     |████████████████████████████████| 10.1 MB 65.9 MB/s            \n",
      "     |████████████████████████████████| 100 kB 11.0 MB/s           \n",
      "     |████████████████████████████████| 59 kB 7.0 MB/s             \n",
      "     |████████████████████████████████| 2.1 MB 51.3 MB/s            \n",
      "     |████████████████████████████████| 119 kB 65.5 MB/s            \n",
      "     |████████████████████████████████| 351 kB 72.9 MB/s            \n",
      "     |████████████████████████████████| 1.3 MB 72.4 MB/s            \n",
      "     |████████████████████████████████| 77 kB 6.0 MB/s             \n",
      "     |████████████████████████████████| 155 kB 69.6 MB/s            \n",
      "     |████████████████████████████████| 914 kB 45.4 MB/s            \n",
      "     |████████████████████████████████| 67 kB 5.2 MB/s             \n",
      "     |████████████████████████████████| 227 kB 79.9 MB/s            \n",
      "     |████████████████████████████████| 248 kB 79.2 MB/s            \n",
      "     |████████████████████████████████| 510 kB 67.6 MB/s            \n",
      "     |████████████████████████████████| 269 kB 56.5 MB/s            \n",
      "\u001b[?25h  Preparing metadata (setup.py) ... \u001b[?25l\u001b[?25hdone\n",
      "     |████████████████████████████████| 660 kB 74.1 MB/s            \n",
      "     |████████████████████████████████| 61 kB 470 kB/s             \n",
      "     |████████████████████████████████| 47 kB 5.5 MB/s             \n",
      "     |████████████████████████████████| 883 kB 70.9 MB/s            \n",
      "\u001b[?25h  Preparing metadata (setup.py) ... \u001b[?25l\u001b[?25hdone\n",
      "     |████████████████████████████████| 6.8 MB 75.7 MB/s            \n",
      "     |████████████████████████████████| 25.9 MB 1.4 MB/s             \n",
      "     |████████████████████████████████| 1.1 MB 42.9 MB/s            \n",
      "\u001b[?25h  Preparing metadata (setup.py) ... \u001b[?25l\u001b[?25hdone\n",
      "     |████████████████████████████████| 10.0 MB 64.1 MB/s            \n",
      "     |████████████████████████████████| 185 kB 74.7 MB/s            \n",
      "     |████████████████████████████████| 3.0 MB 49.3 MB/s            \n",
      "     |████████████████████████████████| 779 kB 72.6 MB/s            \n",
      "\u001b[?25h  Preparing metadata (setup.py) ... \u001b[?25l\u001b[?25hdone\n",
      "     |████████████████████████████████| 2.1 MB 62.6 MB/s            \n",
      "     |████████████████████████████████| 73 kB 1.5 MB/s             \n",
      "     |████████████████████████████████| 66 kB 5.6 MB/s             \n",
      "     |████████████████████████████████| 75 kB 4.6 MB/s             \n",
      "     |████████████████████████████████| 540 kB 69.5 MB/s            \n",
      "     |████████████████████████████████| 3.7 MB 62.9 MB/s            \n",
      "     |████████████████████████████████| 126 kB 73.3 MB/s            \n",
      "\u001b[?25h  Preparing metadata (setup.py) ... \u001b[?25l\u001b[?25hdone\n",
      "     |████████████████████████████████| 298 kB 77.3 MB/s            \n",
      "\u001b[?25h  Preparing metadata (setup.py) ... \u001b[?25l\u001b[?25hdone\n",
      "     |████████████████████████████████| 238 kB 74.9 MB/s            \n",
      "     |████████████████████████████████| 128 kB 50.8 MB/s            \n",
      "     |████████████████████████████████| 178 kB 73.2 MB/s            \n",
      "     |████████████████████████████████| 4.5 MB 67.5 MB/s            \n",
      "\u001b[?25h  Preparing metadata (setup.py) ... \u001b[?25l\u001b[?25hdone\n",
      "     |████████████████████████████████| 13.1 MB 72.0 MB/s            \n",
      "     |████████████████████████████████| 58 kB 7.3 MB/s             \n",
      "\u001b[?25h  Preparing metadata (setup.py) ... \u001b[?25l\u001b[?25hdone\n",
      "  Preparing metadata (setup.py) ... \u001b[?25l\u001b[?25hdone\n",
      "     |████████████████████████████████| 5.9 MB 56.1 MB/s            \n",
      "     |████████████████████████████████| 94 kB 3.7 MB/s             \n",
      "     |████████████████████████████████| 2.9 MB 60.7 MB/s            \n",
      "     |████████████████████████████████| 2.7 MB 32.7 MB/s            \n",
      "     |████████████████████████████████| 45 kB 3.5 MB/s             \n",
      "\u001b[?25h  Preparing metadata (setup.py) ... \u001b[?25l\u001b[?25hdone\n",
      "     |████████████████████████████████| 110 kB 70.9 MB/s            \n",
      "\u001b[?25h  Preparing metadata (setup.py) ... \u001b[?25l\u001b[?25hdone\n",
      "     |████████████████████████████████| 253 kB 66.2 MB/s            \n",
      "\u001b[?25h  Preparing metadata (setup.py) ... \u001b[?25l\u001b[?25hdone\n",
      "     |████████████████████████████████| 234 kB 39.2 MB/s            \n",
      "     |████████████████████████████████| 6.4 MB 66.4 MB/s            \n",
      "     |████████████████████████████████| 190 kB 72.0 MB/s            \n",
      "     |████████████████████████████████| 55 kB 4.0 MB/s             \n",
      "     |████████████████████████████████| 112 kB 78.1 MB/s            \n",
      "     |████████████████████████████████| 43 kB 1.8 MB/s             \n",
      "     |████████████████████████████████| 70 kB 9.5 MB/s             \n",
      "     |████████████████████████████████| 1.1 MB 70.8 MB/s            \n",
      "     |████████████████████████████████| 133 kB 73.0 MB/s            \n",
      "     |████████████████████████████████| 547 kB 77.4 MB/s            \n",
      "     |████████████████████████████████| 94 kB 2.9 MB/s             \n",
      "     |████████████████████████████████| 100 kB 9.7 MB/s            \n",
      "     |████████████████████████████████| 90 kB 11.0 MB/s            \n",
      "     |████████████████████████████████| 93 kB 1.2 MB/s             \n",
      "     |████████████████████████████████| 84 kB 3.9 MB/s             \n",
      "     |████████████████████████████████| 9.5 MB 72.3 MB/s            \n",
      "     |████████████████████████████████| 121 kB 77.3 MB/s            \n",
      "     |████████████████████████████████| 98 kB 8.9 MB/s             \n",
      "     |████████████████████████████████| 52 kB 981 kB/s             \n",
      "     |████████████████████████████████| 60 kB 7.5 MB/s             \n",
      "\u001b[?25h  Building wheel for absl-py (setup.py) ... \u001b[?25l\u001b[?25hdone\n",
      "  Building wheel for docopt (setup.py) ... \u001b[?25l\u001b[?25hdone\n",
      "  Building wheel for future (setup.py) ... \u001b[?25l\u001b[?25hdone\n",
      "  Building wheel for ipdb (setup.py) ... \u001b[?25l\u001b[?25hdone\n",
      "  Building wheel for nltk (setup.py) ... \u001b[?25l\u001b[?25hdone\n",
      "  Building wheel for overrides (setup.py) ... \u001b[?25l\u001b[?25hdone\n",
      "  Building wheel for PyYAML (setup.py) ... \u001b[?25l\u001b[?25hdone\n",
      "  Building wheel for sacremoses (setup.py) ... \u001b[?25l\u001b[?25hdone\n",
      "  Building wheel for sklearn (setup.py) ... \u001b[?25l\u001b[?25hdone\n",
      "  Building wheel for test-tube (setup.py) ... \u001b[?25l\u001b[?25hdone\n",
      "  Building wheel for wasabi (setup.py) ... \u001b[?25l\u001b[?25hdone\n",
      "  Building wheel for wget (setup.py) ... \u001b[?25l\u001b[?25hdone\n",
      "  Building wheel for word2number (setup.py) ... \u001b[?25l\u001b[?25hdone\n",
      "  Building wheel for ftfy (setup.py) ... \u001b[?25l\u001b[?25hdone\n",
      "  Building wheel for numpydoc (setup.py) ... \u001b[?25l\u001b[?25hdone\n",
      "  Building wheel for parsimonious (setup.py) ... \u001b[?25l\u001b[?25hdone\n",
      "  Building wheel for thinqpbo (setup.py) ... \u001b[?25l\u001b[?25hdone\n",
      "  Building wheel for jsonnet (setup.py) ... \u001b[?25l\u001b[?25hdone\n",
      "  Building wheel for en-core-web-sm (setup.py) ... \u001b[?25l\u001b[?25hdone\n",
      "\u001b[33mWARNING: Running pip as the 'root' user can result in broken permissions and conflicting behaviour with the system package manager. It is recommended to use a virtual environment instead: https://pip.pypa.io/warnings/venv\u001b[0m\n"
     ]
    }
   ],
   "source": [
    "! python -m pip install -q -r openie6/requirements.txt"
   ]
  },
  {
   "cell_type": "code",
   "execution_count": 16,
   "metadata": {
    "colab": {
     "base_uri": "https://localhost:8080/"
    },
    "id": "3E_Sh3aBbKqC",
    "outputId": "85d50861-451d-47d9-b7d2-e7358422d020"
   },
   "outputs": [
    {
     "name": "stdout",
     "output_type": "stream",
     "text": [
      "/usr/lib/python3.6/runpy.py:125: RuntimeWarning: 'nltk.downloader' found in sys.modules after import of package 'nltk', but prior to execution of 'nltk.downloader'; this may result in unpredictable behaviour\n",
      "  warn(RuntimeWarning(msg))\n",
      "[nltk_data] Downloading package stopwords to /root/nltk_data...\n",
      "[nltk_data]   Unzipping corpora/stopwords.zip.\n",
      "/usr/lib/python3.6/runpy.py:125: RuntimeWarning: 'nltk.downloader' found in sys.modules after import of package 'nltk', but prior to execution of 'nltk.downloader'; this may result in unpredictable behaviour\n",
      "  warn(RuntimeWarning(msg))\n",
      "[nltk_data] Downloading package punkt to /root/nltk_data...\n",
      "[nltk_data]   Unzipping tokenizers/punkt.zip.\n"
     ]
    }
   ],
   "source": [
    "! python -m nltk.downloader stopwords\n",
    "! python -m nltk.downloader punkt"
   ]
  },
  {
   "cell_type": "markdown",
   "metadata": {
    "id": "CwogyO27-etq"
   },
   "source": [
    "Colab-specific dependencies"
   ]
  },
  {
   "cell_type": "code",
   "execution_count": 17,
   "metadata": {
    "colab": {
     "base_uri": "https://localhost:8080/"
    },
    "id": "fDlX9kyJK5xI",
    "outputId": "2b290ac8-2298-4439-96d0-78794a0bbc3e"
   },
   "outputs": [
    {
     "name": "stdout",
     "output_type": "stream",
     "text": [
      "     |████████████████████████████████| 121 kB 11.0 MB/s            \n",
      "     |████████████████████████████████| 72 kB 1.2 MB/s             \n",
      "\u001b[?25h  Preparing metadata (setup.py) ... \u001b[?25l\u001b[?25hdone\n",
      "     |████████████████████████████████| 123 kB 58.1 MB/s            \n",
      "     |████████████████████████████████| 427 kB 57.7 MB/s            \n",
      "     |████████████████████████████████| 130 kB 66.2 MB/s            \n",
      "     |████████████████████████████████| 64 kB 2.4 MB/s             \n",
      "     |████████████████████████████████| 104 kB 58.3 MB/s            \n",
      "     |████████████████████████████████| 758 kB 55.8 MB/s            \n",
      "     |████████████████████████████████| 8.0 MB 51.6 MB/s            \n",
      "     |████████████████████████████████| 10.1 MB 59.1 MB/s            \n",
      "\u001b[?25h  Preparing metadata (setup.py) ... \u001b[?25l\u001b[?25hdone\n",
      "     |████████████████████████████████| 57 kB 5.1 MB/s             \n",
      "     |████████████████████████████████| 484 kB 63.8 MB/s            \n",
      "\u001b[?25h  Preparing metadata (setup.py) ... \u001b[?25l\u001b[?25hdone\n",
      "     |████████████████████████████████| 1.6 MB 55.1 MB/s            \n",
      "     |████████████████████████████████| 246 kB 64.5 MB/s            \n",
      "     |████████████████████████████████| 245 kB 54.5 MB/s            \n",
      "\u001b[?25h  Preparing metadata (setup.py) ... \u001b[?25l\u001b[?25hdone\n",
      "     |████████████████████████████████| 178 kB 73.0 MB/s            \n",
      "     |████████████████████████████████| 86 kB 6.2 MB/s             \n",
      "     |████████████████████████████████| 552 kB 66.7 MB/s            \n",
      "     |████████████████████████████████| 118 kB 73.6 MB/s            \n",
      "     |████████████████████████████████| 58 kB 6.1 MB/s             \n",
      "     |████████████████████████████████| 1.1 MB 63.3 MB/s            \n",
      "     |████████████████████████████████| 157 kB 77.5 MB/s            \n",
      "     |████████████████████████████████| 83 kB 3.0 MB/s             \n",
      "     |████████████████████████████████| 69 kB 8.0 MB/s             \n",
      "     |████████████████████████████████| 56 kB 4.7 MB/s             \n",
      "     |████████████████████████████████| 117 kB 68.9 MB/s            \n",
      "\u001b[?25h  Building wheel for google-colab (setup.py) ... \u001b[?25l\u001b[?25hdone\n",
      "  Building wheel for portpicker (setup.py) ... \u001b[?25l\u001b[?25hdone\n",
      "  Building wheel for tornado (setup.py) ... \u001b[?25l\u001b[?25hdone\n",
      "  Building wheel for simplegeneric (setup.py) ... \u001b[?25l\u001b[?25hdone\n",
      "\u001b[31mERROR: pip's dependency resolver does not currently take into account all the packages that are installed. This behaviour is the source of the following dependency conflicts.\n",
      "tensorboard 2.2.2 requires google-auth<2,>=1.6.3, but you have google-auth 1.4.2 which is incompatible.\u001b[0m\n",
      "\u001b[33mWARNING: Running pip as the 'root' user can result in broken permissions and conflicting behaviour with the system package manager. It is recommended to use a virtual environment instead: https://pip.pypa.io/warnings/venv\u001b[0m\n"
     ]
    }
   ],
   "source": [
    "! python -m pip install -q ipykernel google-colab ipywidgets"
   ]
  },
  {
   "cell_type": "markdown",
   "metadata": {
    "id": "nV7_ESGn8vfa"
   },
   "source": [
    "## Running coordination analysis model\n",
    "\n",
    "Please don't pay attention to the `UnknownBackend` warnings.\n",
    "\n",
    "The `sentences.txt` samples will be converted to shorter sentences in `predictions.txt.conj`."
   ]
  },
  {
   "cell_type": "markdown",
   "metadata": {
    "id": "ZTB_a881UVTd"
   },
   "source": [
    "### GPU version (20 seconds or so)"
   ]
  },
  {
   "cell_type": "code",
   "execution_count": 18,
   "metadata": {
    "colab": {
     "base_uri": "https://localhost:8080/"
    },
    "id": "icqnx2tdoQ6F",
    "outputId": "337eec4e-0a3e-4d29-f045-7b28bf264118"
   },
   "outputs": [
    {
     "name": "stdout",
     "output_type": "stream",
     "text": [
      "/usr/local/lib/python3.6/dist-packages/traitlets/config/configurable.py:84: UserWarning: Config option `use_jedi` not recognized by `IPCompleter`.\n",
      "  self.config = config\n",
      "[TerminalIPythonApp] WARNING | GUI event loop or pylab initialization failed\n",
      "\u001b[0;31m\u001b[0m\n",
      "\u001b[0;31mUnknownBackend\u001b[0mTraceback (most recent call last)\n",
      "\u001b[0;32m/usr/local/lib/python3.6/dist-packages/IPython/core/interactiveshell.py\u001b[0m in \u001b[0;36menable_matplotlib\u001b[0;34m(self, gui)\u001b[0m\n",
      "\u001b[1;32m   2953\u001b[0m         \u001b[0;31m# Now we must activate the gui pylab wants to use, and fix %run to take\u001b[0m\u001b[0;34m\u001b[0m\u001b[0;34m\u001b[0m\u001b[0;34m\u001b[0m\u001b[0m\n",
      "\u001b[1;32m   2954\u001b[0m         \u001b[0;31m# plot updates into account\u001b[0m\u001b[0;34m\u001b[0m\u001b[0;34m\u001b[0m\u001b[0;34m\u001b[0m\u001b[0m\n",
      "\u001b[0;32m-> 2955\u001b[0;31m         \u001b[0mself\u001b[0m\u001b[0;34m.\u001b[0m\u001b[0menable_gui\u001b[0m\u001b[0;34m(\u001b[0m\u001b[0mgui\u001b[0m\u001b[0;34m)\u001b[0m\u001b[0;34m\u001b[0m\u001b[0;34m\u001b[0m\u001b[0m\n",
      "\u001b[0m\u001b[1;32m   2956\u001b[0m         \u001b[0mself\u001b[0m\u001b[0;34m.\u001b[0m\u001b[0mmagics_manager\u001b[0m\u001b[0;34m.\u001b[0m\u001b[0mregistry\u001b[0m\u001b[0;34m[\u001b[0m\u001b[0;34m'ExecutionMagics'\u001b[0m\u001b[0;34m]\u001b[0m\u001b[0;34m.\u001b[0m\u001b[0mdefault_runner\u001b[0m \u001b[0;34m=\u001b[0m\u001b[0;31m \u001b[0m\u001b[0;31m\\\u001b[0m\u001b[0;34m\u001b[0m\u001b[0;34m\u001b[0m\u001b[0m\n",
      "\u001b[1;32m   2957\u001b[0m             \u001b[0mpt\u001b[0m\u001b[0;34m.\u001b[0m\u001b[0mmpl_runner\u001b[0m\u001b[0;34m(\u001b[0m\u001b[0mself\u001b[0m\u001b[0;34m.\u001b[0m\u001b[0msafe_execfile\u001b[0m\u001b[0;34m)\u001b[0m\u001b[0;34m\u001b[0m\u001b[0;34m\u001b[0m\u001b[0m\n",
      "\n",
      "\u001b[0;32m/usr/local/lib/python3.6/dist-packages/IPython/terminal/interactiveshell.py\u001b[0m in \u001b[0;36menable_gui\u001b[0;34m(self, gui)\u001b[0m\n",
      "\u001b[1;32m    512\u001b[0m         \u001b[0;32mif\u001b[0m \u001b[0mgui\u001b[0m\u001b[0;34m:\u001b[0m\u001b[0;34m\u001b[0m\u001b[0;34m\u001b[0m\u001b[0m\n",
      "\u001b[1;32m    513\u001b[0m             \u001b[0mself\u001b[0m\u001b[0;34m.\u001b[0m\u001b[0mactive_eventloop\u001b[0m\u001b[0;34m,\u001b[0m \u001b[0mself\u001b[0m\u001b[0;34m.\u001b[0m\u001b[0m_inputhook\u001b[0m \u001b[0;34m=\u001b[0m\u001b[0;31m\\\u001b[0m\u001b[0;34m\u001b[0m\u001b[0;34m\u001b[0m\u001b[0m\n",
      "\u001b[0;32m--> 514\u001b[0;31m                 \u001b[0mget_inputhook_name_and_func\u001b[0m\u001b[0;34m(\u001b[0m\u001b[0mgui\u001b[0m\u001b[0;34m)\u001b[0m\u001b[0;34m\u001b[0m\u001b[0;34m\u001b[0m\u001b[0m\n",
      "\u001b[0m\u001b[1;32m    515\u001b[0m         \u001b[0;32melse\u001b[0m\u001b[0;34m:\u001b[0m\u001b[0;34m\u001b[0m\u001b[0;34m\u001b[0m\u001b[0m\n",
      "\u001b[1;32m    516\u001b[0m             \u001b[0mself\u001b[0m\u001b[0;34m.\u001b[0m\u001b[0mactive_eventloop\u001b[0m \u001b[0;34m=\u001b[0m \u001b[0mself\u001b[0m\u001b[0;34m.\u001b[0m\u001b[0m_inputhook\u001b[0m \u001b[0;34m=\u001b[0m \u001b[0;32mNone\u001b[0m\u001b[0;34m\u001b[0m\u001b[0;34m\u001b[0m\u001b[0m\n",
      "\n",
      "\u001b[0;32m/usr/local/lib/python3.6/dist-packages/IPython/terminal/pt_inputhooks/__init__.py\u001b[0m in \u001b[0;36mget_inputhook_name_and_func\u001b[0;34m(gui)\u001b[0m\n",
      "\u001b[1;32m     36\u001b[0m \u001b[0;34m\u001b[0m\u001b[0m\n",
      "\u001b[1;32m     37\u001b[0m     \u001b[0;32mif\u001b[0m \u001b[0mgui\u001b[0m \u001b[0;32mnot\u001b[0m \u001b[0;32min\u001b[0m \u001b[0mbackends\u001b[0m\u001b[0;34m:\u001b[0m\u001b[0;34m\u001b[0m\u001b[0;34m\u001b[0m\u001b[0m\n",
      "\u001b[0;32m---> 38\u001b[0;31m         \u001b[0;32mraise\u001b[0m \u001b[0mUnknownBackend\u001b[0m\u001b[0;34m(\u001b[0m\u001b[0mgui\u001b[0m\u001b[0;34m)\u001b[0m\u001b[0;34m\u001b[0m\u001b[0;34m\u001b[0m\u001b[0m\n",
      "\u001b[0m\u001b[1;32m     39\u001b[0m \u001b[0;34m\u001b[0m\u001b[0m\n",
      "\u001b[1;32m     40\u001b[0m     \u001b[0;32mif\u001b[0m \u001b[0mgui\u001b[0m \u001b[0;32min\u001b[0m \u001b[0maliases\u001b[0m\u001b[0;34m:\u001b[0m\u001b[0;34m\u001b[0m\u001b[0;34m\u001b[0m\u001b[0m\n",
      "\n",
      "\u001b[0;31mUnknownBackend\u001b[0m: No event loop integration for 'inline'. Supported event loops are: qt, qt4, qt5, gtk, gtk2, gtk3, tk, wx, pyglet, glut, osx\n",
      "/usr/local/lib/python3.6/dist-packages/IPython/utils/traitlets.py:5: UserWarning: IPython.utils.traitlets has moved to a top-level traitlets package.\n",
      "  warn(\"IPython.utils.traitlets has moved to a top-level traitlets package.\")\n",
      "/usr/local/lib/python3.6/dist-packages/sklearn/utils/deprecation.py:143: FutureWarning: The sklearn.preprocessing.data module is  deprecated in version 0.22 and will be removed in version 0.24. The corresponding classes / functions should instead be imported from sklearn.preprocessing. Anything that cannot be imported from sklearn.preprocessing is now part of the private API.\n",
      "  warnings.warn(message, FutureWarning)\n",
      "HBox(children=(FloatProgress(value=0.0, description='Downloading', max=625.0, style=ProgressStyle(description_width='initial')), HTML(value='')))\n",
      "\n",
      "HBox(children=(FloatProgress(value=0.0, description='Downloading', max=213450.0, style=ProgressStyle(description_width='initial')), HTML(value='')))\n",
      "\n",
      "4it [00:00, 3435.84it/s]\n",
      "HBox(children=(FloatProgress(value=0.0, description='Downloading', max=625.0, style=ProgressStyle(description_width='initial')), HTML(value='')))\n",
      "\n",
      "HBox(children=(FloatProgress(value=0.0, description='Downloading', max=1338740706.0, style=ProgressStyle(description_width='initial')), HTML(value='')))\n",
      "\n",
      "GPU available: True, used: True\n",
      "INFO:lightning:GPU available: True, used: True\n",
      "No environment variable for node rank defined. Set as 0.\n",
      "WARNING:lightning:No environment variable for node rank defined. Set as 0.\n",
      "CUDA_VISIBLE_DEVICES: [0]\n",
      "INFO:lightning:CUDA_VISIBLE_DEVICES: [0]\n",
      "HBox(children=(FloatProgress(value=1.0, bar_style='info', description='Testing', layout=Layout(flex='2'), max=1.0, style=ProgressStyle(description_width='initial')), HTML(value='')), layout=Layout(display='inline-flex', flex_flow='row wrap', width='100%'))\n",
      "\n",
      "Results: {'eval_f1': 0, 'eval_p': 0, 'eval_r': 0}\n",
      "--------------------------------------------------------------------------------\n",
      "TEST RESULTS\n",
      "{'eval_f1': 0, 'eval_p': 0, 'eval_r': 0, 'test_acc': 0}\n",
      "--------------------------------------------------------------------------------\n",
      "\n",
      "Total Time taken = 20.377668619155884 s\n"
     ]
    }
   ],
   "source": [
    "if NB_WITH_GPU:\n",
    "  ! cd openie6 && CUDA_DEVICE_ORDER=PCI_BUS_ID CUDA_VISIBLE_DEVICES=0 PYTHONPATH=imojie:imojie/allennlp:imojie/pytorch_transformers:$PYTHONPATH python run.py --save models/conj_model --mode predict --inp ../sentences.txt --batch_size 1 --model_str bert-large-cased --task conj --gpus 1 --out ../predictions.txt"
   ]
  },
  {
   "cell_type": "markdown",
   "metadata": {
    "id": "QMCjq8QY_Oge"
   },
   "source": [
    "Finally, the results."
   ]
  },
  {
   "cell_type": "code",
   "execution_count": 19,
   "metadata": {
    "colab": {
     "base_uri": "https://localhost:8080/"
    },
    "id": "L7Lok1TwAfkG",
    "outputId": "4f6b4ee3-ebc5-43af-f611-cea96adb985a"
   },
   "outputs": [
    {
     "name": "stdout",
     "output_type": "stream",
     "text": [
      "The man , who had never liked the words `` booby '' and `` boobyhatch , '' and who liked them even less on a shining morning when there was a unicorn in the garden , thought for a moment .\n",
      "The man , '' , thought for a moment .\n",
      "The man , who liked them even less on a shining morning when there was a unicorn in the garden , thought for a moment .\n",
      "The man , who had never liked the words `` booby , thought for a moment .\n",
      "The man , who had never liked the words `` boobyhatch , thought for a moment .\n",
      "\n",
      "I love Luciano Pavarotti and Jose Carreras .\n",
      "I love Luciano Pavarotti .\n",
      "I love Jose Carreras .\n",
      "\n"
     ]
    }
   ],
   "source": [
    "if NB_WITH_GPU:\n",
    "  ! cat predictions.txt.conj"
   ]
  },
  {
   "cell_type": "markdown",
   "metadata": {
    "id": "uiMXKZMTTOcI"
   },
   "source": [
    "### CPU version (40 seconds or so)"
   ]
  },
  {
   "cell_type": "code",
   "execution_count": 20,
   "metadata": {
    "id": "sqfOjGecTN90"
   },
   "outputs": [],
   "source": [
    "if not NB_WITH_GPU:\n",
    "  ! cd openie6 && PYTHONPATH=imojie:imojie/allennlp:imojie/pytorch_transformers:$PYTHONPATH python run.py --save models/conj_model --mode predict --inp ../sentences.txt --batch_size 1 --model_str bert-large-cased --task conj --out ../predictions.txt"
   ]
  },
  {
   "cell_type": "code",
   "execution_count": 21,
   "metadata": {
    "id": "HxGBFokyTcue"
   },
   "outputs": [],
   "source": [
    "if not NB_WITH_GPU:\n",
    "  ! cat predictions.txt.conj"
   ]
  },
  {
   "cell_type": "markdown",
   "metadata": {
    "id": "XljmIo5BY0pR",
    "tags": []
   },
   "source": [
    "## Application of this software in Mappa Mundi"
   ]
  },
  {
   "cell_type": "code",
   "execution_count": 22,
   "metadata": {
    "colab": {
     "base_uri": "https://localhost:8080/"
    },
    "id": "km0QFjN4Y0pR",
    "outputId": "c2512385-4e44-496b-df3f-116e1626899a"
   },
   "outputs": [
    {
     "name": "stdout",
     "output_type": "stream",
     "text": [
      "Cloning into 'mappa_mundi'...\n",
      "remote: Enumerating objects: 830, done.\u001b[K\n",
      "remote: Counting objects: 100% (56/56), done.\u001b[K\n",
      "remote: Compressing objects: 100% (43/43), done.\u001b[K\n",
      "remote: Total 830 (delta 27), reused 39 (delta 13), pack-reused 774\u001b[K\n",
      "Receiving objects: 100% (830/830), 7.65 MiB | 20.10 MiB/s, done.\n",
      "Resolving deltas: 100% (524/524), done.\n"
     ]
    }
   ],
   "source": [
    "! git clone https://github.com/rrtucci/mappa_mundi.git"
   ]
  },
  {
   "cell_type": "code",
   "execution_count": 23,
   "metadata": {
    "colab": {
     "base_uri": "https://localhost:8080/"
    },
    "id": "twujbsKzl1Cr",
    "outputId": "142f9db7-31c0-497b-9c28-ebff246e0fff"
   },
   "outputs": [
    {
     "name": "stdout",
     "output_type": "stream",
     "text": [
      "get-pip.py    \u001b[0m\u001b[01;34mopenie6\u001b[0m/              \u001b[01;34msample_data\u001b[0m/\n",
      "\u001b[01;34mmappa_mundi\u001b[0m/  predictions.txt.conj  sentences.txt\n"
     ]
    }
   ],
   "source": [
    "%ls"
   ]
  },
  {
   "cell_type": "code",
   "execution_count": 24,
   "metadata": {
    "id": "ueBMu4bLhWL6"
   },
   "outputs": [],
   "source": [
    "reload_it = False\n",
    "if reload_it:\n",
    "  import importlib as ilib\n",
    "  import simp_openie6\n",
    "  ilib.reload(simp_openie6)"
   ]
  },
  {
   "cell_type": "code",
   "execution_count": 25,
   "metadata": {
    "colab": {
     "base_uri": "https://localhost:8080/"
    },
    "id": "fEmlYR06HIM2",
    "outputId": "0e00d607-d541-49f5-a90a-5d62420bab9f"
   },
   "outputs": [
    {
     "name": "stdout",
     "output_type": "stream",
     "text": [
      "simp_openie6\n"
     ]
    }
   ],
   "source": [
    "import sys\n",
    "sys.path.insert(0,'/content/mappa_mundi')\n",
    "from my_globals import *\n",
    "from utils import my_listdir\n",
    "from simp_openie6 import openie6_simplify_batch_of_m_scripts\n",
    "print(ZTZ_SIMPLIFIER)"
   ]
  },
  {
   "cell_type": "code",
   "execution_count": 29,
   "metadata": {
    "id": "HV1OGF-qY0pS"
   },
   "outputs": [],
   "source": [
    "USE_GPU = NB_WITH_GPU\n",
    "from time import time\n",
    "\n",
    "\n",
    "def main3():\n",
    "    start_time = time()\n",
    "    print(\"************ simplifier:\", ZTZ_SIMPLIFIER)\n",
    "    in_dir = \"short_stories_spell\"\n",
    "    out_dir = \"short_stories_simp\"\n",
    "    in_dir = 'mappa_mundi/' + in_dir\n",
    "    batch_file_names = my_listdir(in_dir)[0:3]\n",
    "    openie6_simplify_batch_of_m_scripts(\n",
    "        in_dir, out_dir,\n",
    "        batch_file_names,\n",
    "        verbose=False)\n",
    "    time_now = (time() - start_time) / 60\n",
    "    print(f\"run time for short story simp: {time_now:.2f} minutes\\n\")\n",
    "\n",
    "\n",
    "def main4():\n",
    "    start_time = time()\n",
    "    print(\"************ simplifier:\", ZTZ_SIMPLIFIER)\n",
    "    remove_dialogs = False\n",
    "    in_dir = SPELL_DIR if not remove_dialogs else SPELL_RD_DIR\n",
    "    out_dir = SIMP_DIR if not remove_dialogs else SIMP_RD_DIR\n",
    "    in_dir = 'mappa_mundi/' + in_dir\n",
    "    batch_file_names = my_listdir(in_dir)[0:3]\n",
    "    openie6_simplify_batch_of_m_scripts(\n",
    "        in_dir, out_dir,\n",
    "        batch_file_names)\n",
    "    time_now = (time() - start_time) / 60\n",
    "    print(f\"run time for movie script simp: {time_now:.2f} minutes\\n\")\n"
   ]
  },
  {
   "cell_type": "code",
   "execution_count": 30,
   "metadata": {
    "colab": {
     "base_uri": "https://localhost:8080/"
    },
    "id": "6R2TqkhiY0pS",
    "outputId": "2989b2da-2096-4771-e515-b4ca59053984"
   },
   "outputs": [
    {
     "name": "stdout",
     "output_type": "stream",
     "text": [
      "************ simplifier: simp_openie6\n",
      "run time for short story simp: 2.00 minutes\n",
      "\n"
     ]
    }
   ],
   "source": [
    "main3()"
   ]
  },
  {
   "cell_type": "code",
   "execution_count": 31,
   "metadata": {
    "colab": {
     "base_uri": "https://localhost:8080/"
    },
    "id": "3IoslwHqcoCg",
    "outputId": "7c6da8b7-5da7-4dc4-d3d1-61e22055734a"
   },
   "outputs": [
    {
     "name": "stdout",
     "output_type": "stream",
     "text": [
      "************ simplifier: simp_openie6\n",
      "run time for movie script simp: 5.26 minutes\n",
      "\n"
     ]
    }
   ],
   "source": [
    "main4()"
   ]
  },
  {
   "cell_type": "code",
   "execution_count": 32,
   "metadata": {
    "id": "ufw39Hp0jT-B"
   },
   "outputs": [],
   "source": [
    "# from google.colab import drive\n",
    "# drive.mount('/content/drive')"
   ]
  },
  {
   "cell_type": "code",
   "execution_count": 33,
   "metadata": {
    "colab": {
     "base_uri": "https://localhost:8080/"
    },
    "id": "UqKTUpT2k_wS",
    "outputId": "98e3789e-ca44-4d3e-cf4b-fee45e74ed51"
   },
   "outputs": [
    {
     "name": "stdout",
     "output_type": "stream",
     "text": [
      "  adding: m_scripts_simp/ (stored 0%)\n",
      "  adding: m_scripts_simp/toy-story.txt (deflated 67%)\n",
      "  adding: m_scripts_simp/up.txt (deflated 66%)\n",
      "  adding: m_scripts_simp/wall-e.txt (deflated 64%)\n",
      "  adding: short_stories_simp/ (stored 0%)\n",
      "  adding: short_stories_simp/bill-the-bloodhound.txt (deflated 67%)\n",
      "  adding: short_stories_simp/extricating-young-gussie.txt (deflated 69%)\n",
      "  adding: short_stories_simp/wiltons-holiday.txt (deflated 68%)\n"
     ]
    }
   ],
   "source": [
    "!zip -r m_scripts_simp.zip m_scripts_simp\n",
    "!zip -r short_stories_simp.zip short_stories_simp"
   ]
  }
 ],
 "metadata": {
  "accelerator": "GPU",
  "colab": {
   "gpuType": "T4",
   "provenance": []
  },
  "kernelspec": {
   "display_name": "Python 3 (ipykernel)",
   "language": "python",
   "name": "python3"
  },
  "language_info": {
   "codemirror_mode": {
    "name": "ipython",
    "version": 3
   },
   "file_extension": ".py",
   "mimetype": "text/x-python",
   "name": "python",
   "nbconvert_exporter": "python",
   "pygments_lexer": "ipython3",
   "version": "3.10.9"
  }
 },
 "nbformat": 4,
 "nbformat_minor": 4
}
