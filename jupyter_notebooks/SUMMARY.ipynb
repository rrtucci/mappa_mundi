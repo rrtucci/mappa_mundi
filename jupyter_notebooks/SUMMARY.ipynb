{
 "cells": [
  {
   "cell_type": "markdown",
   "metadata": {},
   "source": [
    "# SUMMARY notebook\n",
    "\n",
    "This notebook scans the directory in which it lives to find all jupyter notebooks (other than itself) in that directory. It then prints for every notebook it finds (1) a hyperlink to the notebook, and (2) the first cell (which is always markdown) of the notebook. This way you can read a nice, automatically generated summary of all the notebooks without having to open all of them. If you find a notebook that you want to explore further, you can simply click on its link to open it."
   ]
  },
  {
   "cell_type": "code",
   "execution_count": 1,
   "metadata": {},
   "outputs": [
    {
     "data": {
      "text/markdown": [
       "\n",
       "\n",
       "<hr style=\"height:10px; background-color: blue;\">\n",
       "\n",
       "coordination_analysis_with_igl_ca_(openie6_paper).ipynb [<a href=\"coordination_analysis_with_igl_ca_(openie6_paper).ipynb\" target= \"_blank\">local link</a>]  [<a href=\"https://nbviewer.org/github/rrtucci/mappa_mundi/blob/master/jupyter_notebooks/coordination_analysis_with_igl_ca_(openie6_paper).ipynb\" target= \"_blank\">web link</a>] 1/4\n",
       "\n",
       "# IGL-CA: inference pipeline\n",
       "Coordination analysis inference using the OpenIE6 model.\n",
       "\n",
       "* Anton's [OpenIE6 fork](https://github.com/alexeyev/openie6)\n",
       "* [OpenIE6 original repo](https://github.com/dair-iitd/openie6)\n",
       "* [OpenIE6 original paper](https://aclanthology.org/2020.emnlp-main.306/)\n",
       "\n",
       "Prepared by [Anton Alekseev](https://github.com/alexeyev) and [Anastasia Predelina](https://github.com/PredelinaAsya). Quite a bit of effort, tbh.\n",
       "\n",
       "**NOTA BENE**: GPU environment should be enabled before running the code! If not possible, another code cell for CPU-only environment is available at the very end of the notebook.\n",
       "\n",
       "<hr style=\"height:10px; background-color: blue;\">\n",
       "\n",
       "navigating_m_scripts.ipynb [<a href=\"navigating_m_scripts.ipynb\" target= \"_blank\">local link</a>]  [<a href=\"https://nbviewer.org/github/rrtucci/mappa_mundi/blob/master/jupyter_notebooks/navigating_m_scripts.ipynb\" target= \"_blank\">web link</a>] 2/4\n",
       "\n",
       "# Navigating Movie Scripts\n",
       "\n",
       "In this notebook, we explain\n",
       "how to use Mappa Mundi (MM) to do causal DEFT (DAG extraction from text)\n",
       "using as a test case, the following 3 movie scripts by Pixar/Disney.\n",
       "\n",
       "* [Toy Story](../m_scripts/toy-story.txt)\n",
       "* [Up](../m_scripts/up.txt)\n",
       "* [WALL-E](../m_scripts/wall-e.txt)\n",
       "\n",
       "<hr style=\"height:10px; background-color: blue;\">\n",
       "\n",
       "navigating_short_stories.ipynb [<a href=\"navigating_short_stories.ipynb\" target= \"_blank\">local link</a>]  [<a href=\"https://nbviewer.org/github/rrtucci/mappa_mundi/blob/master/jupyter_notebooks/navigating_short_stories.ipynb\" target= \"_blank\">web link</a>] 3/4\n",
       "\n",
       "# Navigating Short Stories\n",
       "\n",
       "In this notebook, we explain how to use Mappa Mundi (MM) to do causal DEFT (DAG extraction from text)\n",
       "using as a test case, the following 3 short stories by P.G. Wodehouse.\n",
       "\n",
       "* [Bill the Bloodhound](../short_stories/bill-the-bloodhound.txt)\n",
       "* [Extricating Young Gussie](../short_stories/extricating-young-gussie.txt)\n",
       "* [Wilton's Holiday](../short_stories/wiltons-holiday.txt)\n",
       "\n",
       "\n",
       "<hr style=\"height:10px; background-color: blue;\">\n",
       "\n",
       "simplifying_with_openie6.ipynb [<a href=\"simplifying_with_openie6.ipynb\" target= \"_blank\">local link</a>]  [<a href=\"https://nbviewer.org/github/rrtucci/mappa_mundi/blob/master/jupyter_notebooks/simplifying_with_openie6.ipynb\" target= \"_blank\">web link</a>] 4/4\n",
       "\n",
       "# Simplifying with Openie6\n",
       "\n",
       "The Openie6 software takes as input a possibly complex or compound sentence X,\n",
       "and it returns a list of simple sentences that contain all the\n",
       "information in the original sentence X.\n",
       "\n",
       "Anton Alekseev (AA) and Anastasia Predelina (AP) wrote a jupyter notebook\n",
       "that installs and runs the code in the Openie6 repo https://github.com/alexeyev/openie6\n",
       "An exact copy of notebook by  AA/AP is included in this folder. It is also publicly available at AA's google drive\n",
       "under the URL\n",
       "\n",
       " https://colab.research.google.com/drive/1samvO-SH6Xgjf9ItlhAF1EmBZo5grBQb?usp=sharing\n",
       "\n",
       "\n",
       "\n",
       "This notebook adds new code to the end of the AA/AP notebook. The purpose of the\n",
       "new code is\n",
       "to simplify short stories and movie scripts."
      ],
      "text/plain": [
       "<IPython.core.display.Markdown object>"
      ]
     },
     "metadata": {},
     "output_type": "display_data"
    }
   ],
   "source": [
    "import os\n",
    "import json\n",
    "from IPython.display import display, Markdown\n",
    "\n",
    "\n",
    "# the name of this file\n",
    "this_fname = 'SUMMARY.ipynb'.lower()\n",
    "fname_to_md = {}\n",
    "for fname in sorted([x.lower() for x in os.listdir('./')]):\n",
    "    if fname[-6:] == '.ipynb'  and fname != this_fname:\n",
    "        # print('------------', fname)\n",
    "        with open(fname, 'r', encoding=\"utf-8\") as f:\n",
    "            fdata = json.load(f)\n",
    "            fname_to_md[fname] = ''.join(fdata['cells'][0]['source'])\n",
    "# print(fname_to_md)\n",
    "pre_sep = '\\n\\n<hr style=\"height:10px; background-color: blue;\">\\n\\n'\n",
    "full_md = ''\n",
    "k = 1\n",
    "num_nb = len(fname_to_md)\n",
    "for fname, md in fname_to_md.items():\n",
    "    sep = pre_sep\n",
    "    link = ' [<a href=\"' +\\\n",
    "        fname + '\" target= \"_blank\">' + 'local link' + '</a>] '\n",
    "    web_link = ' [<a href=\"https://nbviewer.org/github/rrtucci/mappa_mundi/blob/master/jupyter_notebooks/' +\\\n",
    "        fname + '\" target= \"_blank\">' + 'web link' + '</a>] '\n",
    "    sep += fname + link + web_link + str(k) + '/' + str(num_nb) + '\\n\\n'\n",
    "    full_md += sep + md\n",
    "    k += 1\n",
    "display(Markdown(full_md))"
   ]
  }
 ],
 "metadata": {
  "kernelspec": {
   "display_name": "Python 3 (ipykernel)",
   "language": "python",
   "name": "python3"
  },
  "language_info": {
   "codemirror_mode": {
    "name": "ipython",
    "version": 3
   },
   "file_extension": ".py",
   "mimetype": "text/x-python",
   "name": "python",
   "nbconvert_exporter": "python",
   "pygments_lexer": "ipython3",
   "version": "3.10.9"
  }
 },
 "nbformat": 4,
 "nbformat_minor": 4
}
