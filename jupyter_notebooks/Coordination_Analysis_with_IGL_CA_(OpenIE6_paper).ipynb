{
  "cells": [
    {
      "cell_type": "markdown",
      "metadata": {
        "id": "jt2y_Nhb3_iI"
      },
      "source": [
        "# IGL-CA: inference pipeline\n",
        "Coordination analysis inference using the OpenIE6 model. \n",
        "\n",
        "* Anton's [OpenIE6 fork](https://github.com/alexeyev/openie6)\n",
        "* [OpenIE6 original repo](https://github.com/dair-iitd/openie6)\n",
        "* [OpenIE6 original paper](https://aclanthology.org/2020.emnlp-main.306/)\n",
        "\n",
        "Prepared by [Anton Alekseev](https://github.com/alexeyev) and [Anastasia Predelina](https://github.com/PredelinaAsya). Quite a bit of effort, tbh.\n",
        "\n",
        "**NOTA BENE**: GPU environment should be enabled before running the code! If not possible, another code cell for CPU-only environment is available at the very end of the notebook."
      ]
    },
    {
      "cell_type": "markdown",
      "source": [
        "## Getting the OpenIE6 code"
      ],
      "metadata": {
        "id": "cazO3i5mAqmF"
      }
    },
    {
      "cell_type": "code",
      "source": [
        "# ! rmdir openie6"
      ],
      "metadata": {
        "id": "_k9DVi6DEGNW"
      },
      "execution_count": 1,
      "outputs": []
    },
    {
      "cell_type": "code",
      "execution_count": 2,
      "metadata": {
        "id": "id7y2Z5S3_K1",
        "colab": {
          "base_uri": "https://localhost:8080/"
        },
        "outputId": "06f4de30-c0fe-4aff-9f83-61e10f0d5930"
      },
      "outputs": [
        {
          "output_type": "stream",
          "name": "stdout",
          "text": [
            "Cloning into 'openie6'...\n",
            "remote: Enumerating objects: 1882, done.\u001b[K\n",
            "remote: Counting objects: 100% (62/62), done.\u001b[K\n",
            "remote: Compressing objects: 100% (44/44), done.\u001b[K\n",
            "remote: Total 1882 (delta 40), reused 26 (delta 18), pack-reused 1820\u001b[K\n",
            "Receiving objects: 100% (1882/1882), 8.52 MiB | 19.96 MiB/s, done.\n",
            "Resolving deltas: 100% (387/387), done.\n"
          ]
        }
      ],
      "source": [
        "! git clone https://github.com/alexeyev/openie6.git"
      ]
    },
    {
      "cell_type": "code",
      "execution_count": 3,
      "metadata": {
        "id": "z4KmZH0x07_E"
      },
      "outputs": [],
      "source": [
        "! mkdir openie6/models"
      ]
    },
    {
      "cell_type": "markdown",
      "metadata": {
        "id": "7ymorrRj-TNi"
      },
      "source": [
        "## Downloading the model\n",
        "\n",
        "Let's get the CA model trained by the paper authors. Re-uploaded it to my gdrive to reduce the downloading time."
      ]
    },
    {
      "cell_type": "code",
      "execution_count": 4,
      "metadata": {
        "id": "2f43ryTo0ljc",
        "colab": {
          "base_uri": "https://localhost:8080/"
        },
        "outputId": "786228a6-4ca3-4d70-a7d2-672f2c1c7992"
      },
      "outputs": [
        {
          "output_type": "stream",
          "name": "stdout",
          "text": [
            "Downloading...\n",
            "From: https://drive.google.com/uc?id=185DK6eWKT6j6Oes04OIVFwJOKri8EVXV\n",
            "To: /content/conj_model.zip\n",
            "100% 3.61G/3.61G [00:46<00:00, 78.3MB/s]\n"
          ]
        }
      ],
      "source": [
        "! gdown 185DK6eWKT6j6Oes04OIVFwJOKri8EVXV"
      ]
    },
    {
      "cell_type": "code",
      "execution_count": 5,
      "metadata": {
        "id": "SRoar-OAt38f",
        "colab": {
          "base_uri": "https://localhost:8080/"
        },
        "outputId": "7ff24d92-628d-4fe2-89c6-3351ed1737b5"
      },
      "outputs": [
        {
          "output_type": "stream",
          "name": "stdout",
          "text": [
            "Archive:  conj_model.zip\n",
            "   creating: conj_model/\n",
            "  inflating: conj_model/epoch=28_eval_acc=0.854.ckpt  \n",
            "   creating: conj_model/logs/\n",
            "   creating: conj_model/logs/test/\n",
            "  inflating: conj_model/logs/test.txt  \n",
            "   creating: conj_model/logs/test/checkpoints/\n",
            "  inflating: conj_model/logs/test/events.out.tfevents.1601263425.vsky017.5076.0  \n",
            "  inflating: conj_model/logs/test/events.out.tfevents.1601263521.vsky017.5784.0  \n",
            "  inflating: conj_model/logs/test/hparams.yaml  \n"
          ]
        }
      ],
      "source": [
        "! unzip conj_model.zip"
      ]
    },
    {
      "cell_type": "code",
      "source": [
        "! rm conj_model.zip*\n",
        "! mv conj_model* openie6/models/"
      ],
      "metadata": {
        "id": "477V3NGeAEpZ"
      },
      "execution_count": 6,
      "outputs": []
    },
    {
      "cell_type": "markdown",
      "source": [
        "## Creating a text sample"
      ],
      "metadata": {
        "id": "u6UqAGEiARao"
      }
    },
    {
      "cell_type": "code",
      "execution_count": 7,
      "metadata": {
        "id": "VJ0_AfXm1Hrh",
        "colab": {
          "base_uri": "https://localhost:8080/"
        },
        "outputId": "f83b4c1e-9369-46ca-ff4c-40164a18749e"
      },
      "outputs": [
        {
          "output_type": "stream",
          "name": "stdout",
          "text": [
            "I love Luciano Pavarotti and Jose Carreras .\n"
          ]
        }
      ],
      "source": [
        "! echo \"I love Luciano Pavarotti and Jose Carreras .\" >> sentences.txt\n",
        "! cat sentences.txt"
      ]
    },
    {
      "cell_type": "markdown",
      "source": [
        "## Setting up Python3.6"
      ],
      "metadata": {
        "id": "EswrqXPXzRtY"
      }
    },
    {
      "cell_type": "code",
      "source": [
        "! sudo apt-get update -y -qq\n",
        "! sudo apt-get install python3.6 python3.6-distutils python3.6-dev -qq "
      ],
      "metadata": {
        "id": "o2khq941zVnN",
        "colab": {
          "base_uri": "https://localhost:8080/"
        },
        "outputId": "5db57089-9370-449f-8e34-249e86291d98"
      },
      "execution_count": 8,
      "outputs": [
        {
          "output_type": "stream",
          "name": "stdout",
          "text": [
            "debconf: unable to initialize frontend: Dialog\n",
            "debconf: (No usable dialog-like program is installed, so the dialog based frontend cannot be used. at /usr/share/perl5/Debconf/FrontEnd/Dialog.pm line 76, <> line 9.)\n",
            "debconf: falling back to frontend: Readline\n",
            "debconf: unable to initialize frontend: Readline\n",
            "debconf: (This frontend requires a controlling tty.)\n",
            "debconf: falling back to frontend: Teletype\n",
            "dpkg-preconfigure: unable to re-open stdin: \n",
            "Selecting previously unselected package libpython3.6-minimal:amd64.\n",
            "(Reading database ... 122541 files and directories currently installed.)\n",
            "Preparing to unpack .../0-libpython3.6-minimal_3.6.15-1+focal3_amd64.deb ...\n",
            "Unpacking libpython3.6-minimal:amd64 (3.6.15-1+focal3) ...\n",
            "Selecting previously unselected package python3.6-minimal.\n",
            "Preparing to unpack .../1-python3.6-minimal_3.6.15-1+focal3_amd64.deb ...\n",
            "Unpacking python3.6-minimal (3.6.15-1+focal3) ...\n",
            "Selecting previously unselected package libpython3.6-stdlib:amd64.\n",
            "Preparing to unpack .../2-libpython3.6-stdlib_3.6.15-1+focal3_amd64.deb ...\n",
            "Unpacking libpython3.6-stdlib:amd64 (3.6.15-1+focal3) ...\n",
            "Selecting previously unselected package libpython3.6:amd64.\n",
            "Preparing to unpack .../3-libpython3.6_3.6.15-1+focal3_amd64.deb ...\n",
            "Unpacking libpython3.6:amd64 (3.6.15-1+focal3) ...\n",
            "Selecting previously unselected package libpython3.6-dev:amd64.\n",
            "Preparing to unpack .../4-libpython3.6-dev_3.6.15-1+focal3_amd64.deb ...\n",
            "Unpacking libpython3.6-dev:amd64 (3.6.15-1+focal3) ...\n",
            "Selecting previously unselected package python3.6.\n",
            "Preparing to unpack .../5-python3.6_3.6.15-1+focal3_amd64.deb ...\n",
            "Unpacking python3.6 (3.6.15-1+focal3) ...\n",
            "Selecting previously unselected package python3.6-dev.\n",
            "Preparing to unpack .../6-python3.6-dev_3.6.15-1+focal3_amd64.deb ...\n",
            "Unpacking python3.6-dev (3.6.15-1+focal3) ...\n",
            "Selecting previously unselected package python3.6-lib2to3.\n",
            "Preparing to unpack .../7-python3.6-lib2to3_3.6.15-1+focal3_all.deb ...\n",
            "Unpacking python3.6-lib2to3 (3.6.15-1+focal3) ...\n",
            "Selecting previously unselected package python3.6-distutils.\n",
            "Preparing to unpack .../8-python3.6-distutils_3.6.15-1+focal3_all.deb ...\n",
            "Unpacking python3.6-distutils (3.6.15-1+focal3) ...\n",
            "Setting up libpython3.6-minimal:amd64 (3.6.15-1+focal3) ...\n",
            "Setting up python3.6-lib2to3 (3.6.15-1+focal3) ...\n",
            "Setting up python3.6-minimal (3.6.15-1+focal3) ...\n",
            "Setting up libpython3.6-stdlib:amd64 (3.6.15-1+focal3) ...\n",
            "Setting up python3.6 (3.6.15-1+focal3) ...\n",
            "Setting up python3.6-distutils (3.6.15-1+focal3) ...\n",
            "Setting up libpython3.6:amd64 (3.6.15-1+focal3) ...\n",
            "Setting up libpython3.6-dev:amd64 (3.6.15-1+focal3) ...\n",
            "Setting up python3.6-dev (3.6.15-1+focal3) ...\n",
            "Processing triggers for mime-support (3.64ubuntu1) ...\n",
            "Processing triggers for man-db (2.9.1-1) ...\n"
          ]
        }
      ]
    },
    {
      "cell_type": "code",
      "source": [
        "! ls /usr/bin/python3*"
      ],
      "metadata": {
        "colab": {
          "base_uri": "https://localhost:8080/"
        },
        "id": "fsoPj6axIArn",
        "outputId": "863ef4b4-19f4-401b-e6fd-656de4ff8b0b"
      },
      "execution_count": 9,
      "outputs": [
        {
          "output_type": "stream",
          "name": "stdout",
          "text": [
            "/usr/bin/python3\t    /usr/bin/python3.6m\n",
            "/usr/bin/python3.10\t    /usr/bin/python3.6m-config\n",
            "/usr/bin/python3.10-config  /usr/bin/python3.8\n",
            "/usr/bin/python3.6\t    /usr/bin/python3.8-config\n",
            "/usr/bin/python3.6-config   /usr/bin/python3-config\n"
          ]
        }
      ]
    },
    {
      "cell_type": "markdown",
      "source": [
        "Here you will have to select `python3.6` manually"
      ],
      "metadata": {
        "id": "rpxEWJBE-HIr"
      }
    },
    {
      "cell_type": "code",
      "source": [
        "!sudo update-alternatives --install /usr/bin/python3 python3 /usr/bin/python3.6 3\n",
        "!sudo update-alternatives --config python3"
      ],
      "metadata": {
        "id": "2BABFTA9znxw",
        "colab": {
          "base_uri": "https://localhost:8080/"
        },
        "outputId": "50556510-146d-44d3-8c6a-b65a1df68e64"
      },
      "execution_count": 10,
      "outputs": [
        {
          "output_type": "stream",
          "name": "stdout",
          "text": [
            "update-alternatives: using /usr/bin/python3.6 to provide /usr/bin/python3 (python3) in auto mode\n",
            "There are 3 choices for the alternative python3 (providing /usr/bin/python3).\n",
            "\n",
            "  Selection    Path                 Priority   Status\n",
            "------------------------------------------------------------\n",
            "* 0            /usr/bin/python3.6    3         auto mode\n",
            "  1            /usr/bin/python3.10   2         manual mode\n",
            "  2            /usr/bin/python3.6    3         manual mode\n",
            "  3            /usr/bin/python3.8    1         manual mode\n",
            "\n",
            "Press <enter> to keep the current choice[*], or type selection number: \n"
          ]
        }
      ]
    },
    {
      "cell_type": "markdown",
      "source": [
        "## Setting up the dependencies"
      ],
      "metadata": {
        "id": "a_6tjiz_-Q4h"
      }
    },
    {
      "cell_type": "code",
      "source": [
        "! rm get-pip*"
      ],
      "metadata": {
        "colab": {
          "base_uri": "https://localhost:8080/"
        },
        "id": "-sieVk3sIYdq",
        "outputId": "5b067581-38c1-4653-eabb-a4fc4dfde760"
      },
      "execution_count": 11,
      "outputs": [
        {
          "output_type": "stream",
          "name": "stdout",
          "text": [
            "rm: cannot remove 'get-pip*': No such file or directory\n"
          ]
        }
      ]
    },
    {
      "cell_type": "code",
      "source": [
        "! python3 --version\n",
        "! wget https://bootstrap.pypa.io/pip/3.6/get-pip.py\n",
        "! python get-pip.py"
      ],
      "metadata": {
        "id": "O9CBvYU00O6L",
        "colab": {
          "base_uri": "https://localhost:8080/"
        },
        "outputId": "9ddae34d-d829-4c3a-a501-231a573fd29e"
      },
      "execution_count": 12,
      "outputs": [
        {
          "output_type": "stream",
          "name": "stdout",
          "text": [
            "Python 3.6.15\n",
            "--2023-06-12 18:50:25--  https://bootstrap.pypa.io/pip/3.6/get-pip.py\n",
            "Resolving bootstrap.pypa.io (bootstrap.pypa.io)... 151.101.0.175, 151.101.64.175, 151.101.128.175, ...\n",
            "Connecting to bootstrap.pypa.io (bootstrap.pypa.io)|151.101.0.175|:443... connected.\n",
            "HTTP request sent, awaiting response... 200 OK\n",
            "Length: 2159061 (2.1M) [text/x-python]\n",
            "Saving to: ‘get-pip.py’\n",
            "\n",
            "get-pip.py          100%[===================>]   2.06M  --.-KB/s    in 0.06s   \n",
            "\n",
            "2023-06-12 18:50:25 (32.7 MB/s) - ‘get-pip.py’ saved [2159061/2159061]\n",
            "\n",
            "Looking in indexes: https://pypi.org/simple, https://us-python.pkg.dev/colab-wheels/public/simple/\n",
            "Collecting pip<22.0\n",
            "  Downloading pip-21.3.1-py3-none-any.whl (1.7 MB)\n",
            "     |████████████████████████████████| 1.7 MB 4.8 MB/s            \n",
            "\u001b[?25hCollecting setuptools\n",
            "  Downloading setuptools-59.6.0-py3-none-any.whl (952 kB)\n",
            "     |████████████████████████████████| 952 kB 59.8 MB/s            \n",
            "\u001b[?25hCollecting wheel\n",
            "  Downloading wheel-0.37.1-py2.py3-none-any.whl (35 kB)\n",
            "Installing collected packages: wheel, setuptools, pip\n",
            "Successfully installed pip-21.3.1 setuptools-59.6.0 wheel-0.37.1\n",
            "\u001b[33mWARNING: Running pip as the 'root' user can result in broken permissions and conflicting behaviour with the system package manager. It is recommended to use a virtual environment instead: https://pip.pypa.io/warnings/venv\u001b[0m\n"
          ]
        }
      ]
    },
    {
      "cell_type": "markdown",
      "source": [
        "Satisfying a few more dependencies just in case"
      ],
      "metadata": {
        "id": "W8ebbFgTAkPM"
      }
    },
    {
      "cell_type": "code",
      "source": [
        "! python -m pip install -q wheel setuptools pip --upgrade"
      ],
      "metadata": {
        "id": "mz7bmfmZFcc8",
        "colab": {
          "base_uri": "https://localhost:8080/"
        },
        "outputId": "48619b25-1c5d-42ce-e1e7-e52a25dcfa36"
      },
      "execution_count": 13,
      "outputs": [
        {
          "output_type": "stream",
          "name": "stdout",
          "text": [
            "\u001b[33mWARNING: Running pip as the 'root' user can result in broken permissions and conflicting behaviour with the system package manager. It is recommended to use a virtual environment instead: https://pip.pypa.io/warnings/venv\u001b[0m\n"
          ]
        }
      ]
    },
    {
      "cell_type": "code",
      "source": [
        "! python -m pip install -q -r openie6/requirements.txt"
      ],
      "metadata": {
        "id": "MVVcBd1uApuG",
        "colab": {
          "base_uri": "https://localhost:8080/"
        },
        "outputId": "1eda4f8a-8803-4a93-9334-4bb5926cdbae"
      },
      "execution_count": 14,
      "outputs": [
        {
          "output_type": "stream",
          "name": "stdout",
          "text": [
            "     |████████████████████████████████| 12.0 MB 4.8 MB/s            \n",
            "\u001b[?25h  Preparing metadata (setup.py) ... \u001b[?25l\u001b[?25hdone\n",
            "     |████████████████████████████████| 776.8 MB 15 kB/s             \n",
            "     |████████████████████████████████| 123 kB 79.5 MB/s            \n",
            "     |████████████████████████████████| 104 kB 67.5 MB/s            \n",
            "\u001b[?25h  Preparing metadata (setup.py) ... \u001b[?25l\u001b[?25hdone\n",
            "     |████████████████████████████████| 3.7 MB 55.8 MB/s            \n",
            "     |████████████████████████████████| 156 kB 78.5 MB/s            \n",
            "     |████████████████████████████████| 133 kB 81.3 MB/s            \n",
            "     |████████████████████████████████| 82 kB 1.3 MB/s             \n",
            "\u001b[?25h  Preparing metadata (setup.py) ... \u001b[?25l\u001b[?25hdone\n",
            "     |████████████████████████████████| 829 kB 74.1 MB/s            \n",
            "\u001b[?25h  Preparing metadata (setup.py) ... \u001b[?25l\u001b[?25hdone\n",
            "     |████████████████████████████████| 90 kB 10.8 MB/s            \n",
            "     |████████████████████████████████| 3.0 MB 64.5 MB/s            \n",
            "     |████████████████████████████████| 58 kB 6.8 MB/s             \n",
            "     |████████████████████████████████| 3.3 MB 64.0 MB/s            \n",
            "\u001b[?25h  Preparing metadata (setup.py) ... \u001b[?25l\u001b[?25hdone\n",
            "     |████████████████████████████████| 785 kB 66.5 MB/s            \n",
            "     |████████████████████████████████| 1.4 MB 59.7 MB/s            \n",
            "     |████████████████████████████████| 298 kB 67.0 MB/s            \n",
            "     |████████████████████████████████| 88 kB 8.7 MB/s             \n",
            "     |████████████████████████████████| 1.4 MB 56.6 MB/s            \n",
            "\u001b[?25h  Preparing metadata (setup.py) ... \u001b[?25l\u001b[?25hdone\n",
            "     |████████████████████████████████| 14.6 MB 48.8 MB/s            \n",
            "     |████████████████████████████████| 147 kB 78.5 MB/s            \n",
            "\u001b[?25h  Preparing metadata (setup.py) ... \u001b[?25l\u001b[?25hdone\n",
            "     |████████████████████████████████| 10.1 MB 53.8 MB/s            \n",
            "     |████████████████████████████████| 100 kB 11.5 MB/s           \n",
            "     |████████████████████████████████| 59 kB 7.9 MB/s             \n",
            "     |████████████████████████████████| 2.1 MB 55.4 MB/s            \n",
            "     |████████████████████████████████| 119 kB 80.3 MB/s            \n",
            "     |████████████████████████████████| 351 kB 76.8 MB/s            \n",
            "     |████████████████████████████████| 1.3 MB 66.3 MB/s            \n",
            "     |████████████████████████████████| 77 kB 6.0 MB/s             \n",
            "     |████████████████████████████████| 155 kB 81.1 MB/s            \n",
            "     |████████████████████████████████| 914 kB 58.4 MB/s            \n",
            "     |████████████████████████████████| 67 kB 7.0 MB/s             \n",
            "     |████████████████████████████████| 227 kB 79.3 MB/s            \n",
            "     |████████████████████████████████| 248 kB 80.1 MB/s            \n",
            "     |████████████████████████████████| 510 kB 75.3 MB/s            \n",
            "     |████████████████████████████████| 269 kB 81.2 MB/s            \n",
            "\u001b[?25h  Preparing metadata (setup.py) ... \u001b[?25l\u001b[?25hdone\n",
            "     |████████████████████████████████| 660 kB 77.6 MB/s            \n",
            "     |████████████████████████████████| 61 kB 293 kB/s             \n",
            "     |████████████████████████████████| 47 kB 4.3 MB/s             \n",
            "     |████████████████████████████████| 883 kB 71.7 MB/s            \n",
            "\u001b[?25h  Preparing metadata (setup.py) ... \u001b[?25l\u001b[?25hdone\n",
            "     |████████████████████████████████| 6.8 MB 56.6 MB/s            \n",
            "     |████████████████████████████████| 25.9 MB 1.3 MB/s             \n",
            "     |████████████████████████████████| 1.1 MB 55.4 MB/s            \n",
            "\u001b[?25h  Preparing metadata (setup.py) ... \u001b[?25l\u001b[?25hdone\n",
            "     |████████████████████████████████| 10.0 MB 69.5 MB/s            \n",
            "     |████████████████████████████████| 185 kB 78.3 MB/s            \n",
            "     |████████████████████████████████| 3.0 MB 61.1 MB/s            \n",
            "     |████████████████████████████████| 779 kB 73.6 MB/s            \n",
            "\u001b[?25h  Preparing metadata (setup.py) ... \u001b[?25l\u001b[?25hdone\n",
            "     |████████████████████████████████| 2.1 MB 66.3 MB/s            \n",
            "     |████████████████████████████████| 73 kB 2.0 MB/s             \n",
            "     |████████████████████████████████| 66 kB 5.5 MB/s             \n",
            "     |████████████████████████████████| 75 kB 5.0 MB/s             \n",
            "     |████████████████████████████████| 540 kB 76.0 MB/s            \n",
            "     |████████████████████████████████| 3.7 MB 67.6 MB/s            \n",
            "     |████████████████████████████████| 126 kB 82.4 MB/s            \n",
            "\u001b[?25h  Preparing metadata (setup.py) ... \u001b[?25l\u001b[?25hdone\n",
            "     |████████████████████████████████| 298 kB 72.2 MB/s            \n",
            "\u001b[?25h  Preparing metadata (setup.py) ... \u001b[?25l\u001b[?25hdone\n",
            "     |████████████████████████████████| 238 kB 80.6 MB/s            \n",
            "     |████████████████████████████████| 128 kB 60.9 MB/s            \n",
            "     |████████████████████████████████| 178 kB 60.3 MB/s            \n",
            "     |████████████████████████████████| 4.5 MB 66.6 MB/s            \n",
            "\u001b[?25h  Preparing metadata (setup.py) ... \u001b[?25l\u001b[?25hdone\n",
            "     |████████████████████████████████| 13.1 MB 63.6 MB/s            \n",
            "     |████████████████████████████████| 58 kB 6.4 MB/s             \n",
            "\u001b[?25h  Preparing metadata (setup.py) ... \u001b[?25l\u001b[?25hdone\n",
            "  Preparing metadata (setup.py) ... \u001b[?25l\u001b[?25hdone\n",
            "     |████████████████████████████████| 5.9 MB 60.4 MB/s            \n",
            "     |████████████████████████████████| 94 kB 3.7 MB/s             \n",
            "     |████████████████████████████████| 2.9 MB 66.3 MB/s            \n",
            "     |████████████████████████████████| 2.7 MB 59.4 MB/s            \n",
            "     |████████████████████████████████| 45 kB 3.6 MB/s             \n",
            "\u001b[?25h  Preparing metadata (setup.py) ... \u001b[?25l\u001b[?25hdone\n",
            "     |████████████████████████████████| 110 kB 73.3 MB/s            \n",
            "\u001b[?25h  Preparing metadata (setup.py) ... \u001b[?25l\u001b[?25hdone\n",
            "     |████████████████████████████████| 253 kB 75.8 MB/s            \n",
            "\u001b[?25h  Preparing metadata (setup.py) ... \u001b[?25l\u001b[?25hdone\n",
            "     |████████████████████████████████| 234 kB 62.8 MB/s            \n",
            "     |████████████████████████████████| 6.4 MB 52.2 MB/s            \n",
            "     |████████████████████████████████| 190 kB 82.6 MB/s            \n",
            "     |████████████████████████████████| 55 kB 4.3 MB/s             \n",
            "     |████████████████████████████████| 112 kB 68.2 MB/s            \n",
            "     |████████████████████████████████| 43 kB 1.8 MB/s             \n",
            "     |████████████████████████████████| 70 kB 8.3 MB/s             \n",
            "     |████████████████████████████████| 1.1 MB 61.4 MB/s            \n",
            "     |████████████████████████████████| 133 kB 63.5 MB/s            \n",
            "     |████████████████████████████████| 547 kB 64.5 MB/s            \n",
            "     |████████████████████████████████| 121 kB 82.5 MB/s            \n",
            "     |████████████████████████████████| 100 kB 11.4 MB/s           \n",
            "     |████████████████████████████████| 9.5 MB 72.0 MB/s            \n",
            "     |████████████████████████████████| 84 kB 3.7 MB/s             \n",
            "     |████████████████████████████████| 90 kB 9.6 MB/s             \n",
            "     |████████████████████████████████| 93 kB 1.3 MB/s             \n",
            "     |████████████████████████████████| 94 kB 2.7 MB/s             \n",
            "     |████████████████████████████████| 98 kB 9.1 MB/s             \n",
            "     |████████████████████████████████| 52 kB 906 kB/s             \n",
            "     |████████████████████████████████| 60 kB 7.9 MB/s             \n",
            "\u001b[?25h  Building wheel for absl-py (setup.py) ... \u001b[?25l\u001b[?25hdone\n",
            "  Building wheel for docopt (setup.py) ... \u001b[?25l\u001b[?25hdone\n",
            "  Building wheel for future (setup.py) ... \u001b[?25l\u001b[?25hdone\n",
            "  Building wheel for ipdb (setup.py) ... \u001b[?25l\u001b[?25hdone\n",
            "  Building wheel for nltk (setup.py) ... \u001b[?25l\u001b[?25hdone\n",
            "  Building wheel for overrides (setup.py) ... \u001b[?25l\u001b[?25hdone\n",
            "  Building wheel for PyYAML (setup.py) ... \u001b[?25l\u001b[?25hdone\n",
            "  Building wheel for sacremoses (setup.py) ... \u001b[?25l\u001b[?25hdone\n",
            "  Building wheel for sklearn (setup.py) ... \u001b[?25l\u001b[?25hdone\n",
            "  Building wheel for test-tube (setup.py) ... \u001b[?25l\u001b[?25hdone\n",
            "  Building wheel for wasabi (setup.py) ... \u001b[?25l\u001b[?25hdone\n",
            "  Building wheel for wget (setup.py) ... \u001b[?25l\u001b[?25hdone\n",
            "  Building wheel for word2number (setup.py) ... \u001b[?25l\u001b[?25hdone\n",
            "  Building wheel for ftfy (setup.py) ... \u001b[?25l\u001b[?25hdone\n",
            "  Building wheel for numpydoc (setup.py) ... \u001b[?25l\u001b[?25hdone\n",
            "  Building wheel for parsimonious (setup.py) ... \u001b[?25l\u001b[?25hdone\n",
            "  Building wheel for thinqpbo (setup.py) ... \u001b[?25l\u001b[?25hdone\n",
            "  Building wheel for jsonnet (setup.py) ... \u001b[?25l\u001b[?25hdone\n",
            "  Building wheel for en-core-web-sm (setup.py) ... \u001b[?25l\u001b[?25hdone\n",
            "\u001b[33mWARNING: Running pip as the 'root' user can result in broken permissions and conflicting behaviour with the system package manager. It is recommended to use a virtual environment instead: https://pip.pypa.io/warnings/venv\u001b[0m\n"
          ]
        }
      ]
    },
    {
      "cell_type": "code",
      "source": [
        "! python -m nltk.downloader stopwords\n",
        "! python -m nltk.downloader punkt "
      ],
      "metadata": {
        "id": "3E_Sh3aBbKqC",
        "colab": {
          "base_uri": "https://localhost:8080/"
        },
        "outputId": "9e5f27e2-73e8-497d-fd39-f69be21c63bf"
      },
      "execution_count": 15,
      "outputs": [
        {
          "output_type": "stream",
          "name": "stdout",
          "text": [
            "/usr/lib/python3.6/runpy.py:125: RuntimeWarning: 'nltk.downloader' found in sys.modules after import of package 'nltk', but prior to execution of 'nltk.downloader'; this may result in unpredictable behaviour\n",
            "  warn(RuntimeWarning(msg))\n",
            "[nltk_data] Downloading package stopwords to /root/nltk_data...\n",
            "[nltk_data]   Unzipping corpora/stopwords.zip.\n",
            "/usr/lib/python3.6/runpy.py:125: RuntimeWarning: 'nltk.downloader' found in sys.modules after import of package 'nltk', but prior to execution of 'nltk.downloader'; this may result in unpredictable behaviour\n",
            "  warn(RuntimeWarning(msg))\n",
            "[nltk_data] Downloading package punkt to /root/nltk_data...\n",
            "[nltk_data]   Unzipping tokenizers/punkt.zip.\n"
          ]
        }
      ]
    },
    {
      "cell_type": "markdown",
      "source": [
        "Colab-specific dependencies"
      ],
      "metadata": {
        "id": "CwogyO27-etq"
      }
    },
    {
      "cell_type": "code",
      "source": [
        "! python -m pip install -q ipykernel google-colab ipywidgets"
      ],
      "metadata": {
        "id": "fDlX9kyJK5xI",
        "colab": {
          "base_uri": "https://localhost:8080/"
        },
        "outputId": "44802c8f-ea34-4a23-cafc-2c0616807c30"
      },
      "execution_count": 16,
      "outputs": [
        {
          "output_type": "stream",
          "name": "stdout",
          "text": [
            "\u001b[?25l\r\r     |██▊                             | 10 kB 23.3 MB/s eta 0:00:01\r     |█████▍                          | 20 kB 4.3 MB/s eta 0:00:01 \r     |████████▏                       | 30 kB 6.2 MB/s eta 0:00:01 \r     |██████████▉                     | 40 kB 4.4 MB/s eta 0:00:01 \r     |█████████████▌                  | 51 kB 4.4 MB/s eta 0:00:01 \r     |████████████████▎               | 61 kB 5.3 MB/s eta 0:00:01 \r     |███████████████████             | 71 kB 5.3 MB/s eta 0:00:01 \r     |█████████████████████▋          | 81 kB 4.9 MB/s eta 0:00:01 \r     |████████████████████████▍       | 92 kB 5.4 MB/s eta 0:00:01 \r     |███████████████████████████     | 102 kB 5.1 MB/s eta 0:00:01\r     |█████████████████████████████▉  | 112 kB 5.1 MB/s eta 0:00:01\r     |████████████████████████████████| 121 kB 5.1 MB/s            \n",
            "\u001b[?25h\u001b[?25l\r\r     |████▌                           | 10 kB 35.6 MB/s eta 0:00:01\r     |█████████                       | 20 kB 42.4 MB/s eta 0:00:01\r     |█████████████▌                  | 30 kB 47.7 MB/s eta 0:00:01\r     |██████████████████              | 40 kB 51.5 MB/s eta 0:00:01\r     |██████████████████████▌         | 51 kB 50.1 MB/s eta 0:00:01\r     |███████████████████████████     | 61 kB 52.6 MB/s eta 0:00:01\r     |███████████████████████████████▌| 71 kB 54.8 MB/s eta 0:00:01\r     |████████████████████████████████| 72 kB 876 kB/s             \n",
            "\u001b[?25h  Preparing metadata (setup.py) ... \u001b[?25l\u001b[?25hdone\n",
            "     |████████████████████████████████| 123 kB 53.1 MB/s            \n",
            "     |████████████████████████████████| 427 kB 56.1 MB/s            \n",
            "     |████████████████████████████████| 130 kB 60.2 MB/s            \n",
            "     |████████████████████████████████| 64 kB 81 kB/s              \n",
            "     |████████████████████████████████| 104 kB 64.3 MB/s            \n",
            "     |████████████████████████████████| 758 kB 54.3 MB/s            \n",
            "     |████████████████████████████████| 8.0 MB 64.6 MB/s            \n",
            "     |████████████████████████████████| 10.1 MB 69.5 MB/s            \n",
            "\u001b[?25h  Preparing metadata (setup.py) ... \u001b[?25l\u001b[?25hdone\n",
            "     |████████████████████████████████| 57 kB 6.7 MB/s             \n",
            "     |████████████████████████████████| 484 kB 77.8 MB/s            \n",
            "\u001b[?25h  Preparing metadata (setup.py) ... \u001b[?25l\u001b[?25hdone\n",
            "     |████████████████████████████████| 246 kB 75.2 MB/s            \n",
            "     |████████████████████████████████| 1.6 MB 67.2 MB/s            \n",
            "     |████████████████████████████████| 245 kB 74.5 MB/s            \n",
            "\u001b[?25h  Preparing metadata (setup.py) ... \u001b[?25l\u001b[?25hdone\n",
            "     |████████████████████████████████| 552 kB 71.7 MB/s            \n",
            "     |████████████████████████████████| 178 kB 69.2 MB/s            \n",
            "     |████████████████████████████████| 86 kB 6.5 MB/s             \n",
            "     |████████████████████████████████| 118 kB 76.8 MB/s            \n",
            "     |████████████████████████████████| 58 kB 6.7 MB/s             \n",
            "     |████████████████████████████████| 1.1 MB 65.4 MB/s            \n",
            "     |████████████████████████████████| 157 kB 69.7 MB/s            \n",
            "     |████████████████████████████████| 69 kB 9.0 MB/s             \n",
            "     |████████████████████████████████| 83 kB 2.8 MB/s             \n",
            "     |████████████████████████████████| 56 kB 5.2 MB/s             \n",
            "     |████████████████████████████████| 117 kB 76.8 MB/s            \n",
            "\u001b[?25h  Building wheel for google-colab (setup.py) ... \u001b[?25l\u001b[?25hdone\n",
            "  Building wheel for portpicker (setup.py) ... \u001b[?25l\u001b[?25hdone\n",
            "  Building wheel for tornado (setup.py) ... \u001b[?25l\u001b[?25hdone\n",
            "  Building wheel for simplegeneric (setup.py) ... \u001b[?25l\u001b[?25hdone\n",
            "\u001b[31mERROR: pip's dependency resolver does not currently take into account all the packages that are installed. This behaviour is the source of the following dependency conflicts.\n",
            "tensorboard 2.2.2 requires google-auth<2,>=1.6.3, but you have google-auth 1.4.2 which is incompatible.\u001b[0m\n",
            "\u001b[33mWARNING: Running pip as the 'root' user can result in broken permissions and conflicting behaviour with the system package manager. It is recommended to use a virtual environment instead: https://pip.pypa.io/warnings/venv\u001b[0m\n"
          ]
        }
      ]
    },
    {
      "cell_type": "markdown",
      "source": [
        "## Running coordination analysis model\n",
        "\n",
        "Please don't pay attention to the `UnknownBackend` warnings. \n",
        "\n",
        "The `sentences.txt` samples will be converted to shorter sentences in `predictions.txt.conj`."
      ],
      "metadata": {
        "id": "nV7_ESGn8vfa"
      }
    },
    {
      "cell_type": "markdown",
      "source": [
        "### GPU version (20 seconds or so)"
      ],
      "metadata": {
        "id": "ZTB_a881UVTd"
      }
    },
    {
      "cell_type": "code",
      "execution_count": 17,
      "metadata": {
        "id": "icqnx2tdoQ6F",
        "outputId": "238e9c3b-939c-494b-dac1-7a5a28d27e9d",
        "colab": {
          "base_uri": "https://localhost:8080/"
        }
      },
      "outputs": [
        {
          "output_type": "stream",
          "name": "stdout",
          "text": [
            "/usr/local/lib/python3.6/dist-packages/traitlets/config/configurable.py:84: UserWarning: Config option `use_jedi` not recognized by `IPCompleter`.\n",
            "  self.config = config\n",
            "[TerminalIPythonApp] WARNING | GUI event loop or pylab initialization failed\n",
            "\u001b[0;31m\u001b[0m\n",
            "\u001b[0;31mUnknownBackend\u001b[0mTraceback (most recent call last)\n",
            "\u001b[0;32m/usr/local/lib/python3.6/dist-packages/IPython/core/interactiveshell.py\u001b[0m in \u001b[0;36menable_matplotlib\u001b[0;34m(self, gui)\u001b[0m\n",
            "\u001b[1;32m   2953\u001b[0m         \u001b[0;31m# Now we must activate the gui pylab wants to use, and fix %run to take\u001b[0m\u001b[0;34m\u001b[0m\u001b[0;34m\u001b[0m\u001b[0;34m\u001b[0m\u001b[0m\n",
            "\u001b[1;32m   2954\u001b[0m         \u001b[0;31m# plot updates into account\u001b[0m\u001b[0;34m\u001b[0m\u001b[0;34m\u001b[0m\u001b[0;34m\u001b[0m\u001b[0m\n",
            "\u001b[0;32m-> 2955\u001b[0;31m         \u001b[0mself\u001b[0m\u001b[0;34m.\u001b[0m\u001b[0menable_gui\u001b[0m\u001b[0;34m(\u001b[0m\u001b[0mgui\u001b[0m\u001b[0;34m)\u001b[0m\u001b[0;34m\u001b[0m\u001b[0;34m\u001b[0m\u001b[0m\n",
            "\u001b[0m\u001b[1;32m   2956\u001b[0m         \u001b[0mself\u001b[0m\u001b[0;34m.\u001b[0m\u001b[0mmagics_manager\u001b[0m\u001b[0;34m.\u001b[0m\u001b[0mregistry\u001b[0m\u001b[0;34m[\u001b[0m\u001b[0;34m'ExecutionMagics'\u001b[0m\u001b[0;34m]\u001b[0m\u001b[0;34m.\u001b[0m\u001b[0mdefault_runner\u001b[0m \u001b[0;34m=\u001b[0m\u001b[0;31m \u001b[0m\u001b[0;31m\\\u001b[0m\u001b[0;34m\u001b[0m\u001b[0;34m\u001b[0m\u001b[0m\n",
            "\u001b[1;32m   2957\u001b[0m             \u001b[0mpt\u001b[0m\u001b[0;34m.\u001b[0m\u001b[0mmpl_runner\u001b[0m\u001b[0;34m(\u001b[0m\u001b[0mself\u001b[0m\u001b[0;34m.\u001b[0m\u001b[0msafe_execfile\u001b[0m\u001b[0;34m)\u001b[0m\u001b[0;34m\u001b[0m\u001b[0;34m\u001b[0m\u001b[0m\n",
            "\n",
            "\u001b[0;32m/usr/local/lib/python3.6/dist-packages/IPython/terminal/interactiveshell.py\u001b[0m in \u001b[0;36menable_gui\u001b[0;34m(self, gui)\u001b[0m\n",
            "\u001b[1;32m    512\u001b[0m         \u001b[0;32mif\u001b[0m \u001b[0mgui\u001b[0m\u001b[0;34m:\u001b[0m\u001b[0;34m\u001b[0m\u001b[0;34m\u001b[0m\u001b[0m\n",
            "\u001b[1;32m    513\u001b[0m             \u001b[0mself\u001b[0m\u001b[0;34m.\u001b[0m\u001b[0mactive_eventloop\u001b[0m\u001b[0;34m,\u001b[0m \u001b[0mself\u001b[0m\u001b[0;34m.\u001b[0m\u001b[0m_inputhook\u001b[0m \u001b[0;34m=\u001b[0m\u001b[0;31m\\\u001b[0m\u001b[0;34m\u001b[0m\u001b[0;34m\u001b[0m\u001b[0m\n",
            "\u001b[0;32m--> 514\u001b[0;31m                 \u001b[0mget_inputhook_name_and_func\u001b[0m\u001b[0;34m(\u001b[0m\u001b[0mgui\u001b[0m\u001b[0;34m)\u001b[0m\u001b[0;34m\u001b[0m\u001b[0;34m\u001b[0m\u001b[0m\n",
            "\u001b[0m\u001b[1;32m    515\u001b[0m         \u001b[0;32melse\u001b[0m\u001b[0;34m:\u001b[0m\u001b[0;34m\u001b[0m\u001b[0;34m\u001b[0m\u001b[0m\n",
            "\u001b[1;32m    516\u001b[0m             \u001b[0mself\u001b[0m\u001b[0;34m.\u001b[0m\u001b[0mactive_eventloop\u001b[0m \u001b[0;34m=\u001b[0m \u001b[0mself\u001b[0m\u001b[0;34m.\u001b[0m\u001b[0m_inputhook\u001b[0m \u001b[0;34m=\u001b[0m \u001b[0;32mNone\u001b[0m\u001b[0;34m\u001b[0m\u001b[0;34m\u001b[0m\u001b[0m\n",
            "\n",
            "\u001b[0;32m/usr/local/lib/python3.6/dist-packages/IPython/terminal/pt_inputhooks/__init__.py\u001b[0m in \u001b[0;36mget_inputhook_name_and_func\u001b[0;34m(gui)\u001b[0m\n",
            "\u001b[1;32m     36\u001b[0m \u001b[0;34m\u001b[0m\u001b[0m\n",
            "\u001b[1;32m     37\u001b[0m     \u001b[0;32mif\u001b[0m \u001b[0mgui\u001b[0m \u001b[0;32mnot\u001b[0m \u001b[0;32min\u001b[0m \u001b[0mbackends\u001b[0m\u001b[0;34m:\u001b[0m\u001b[0;34m\u001b[0m\u001b[0;34m\u001b[0m\u001b[0m\n",
            "\u001b[0;32m---> 38\u001b[0;31m         \u001b[0;32mraise\u001b[0m \u001b[0mUnknownBackend\u001b[0m\u001b[0;34m(\u001b[0m\u001b[0mgui\u001b[0m\u001b[0;34m)\u001b[0m\u001b[0;34m\u001b[0m\u001b[0;34m\u001b[0m\u001b[0m\n",
            "\u001b[0m\u001b[1;32m     39\u001b[0m \u001b[0;34m\u001b[0m\u001b[0m\n",
            "\u001b[1;32m     40\u001b[0m     \u001b[0;32mif\u001b[0m \u001b[0mgui\u001b[0m \u001b[0;32min\u001b[0m \u001b[0maliases\u001b[0m\u001b[0;34m:\u001b[0m\u001b[0;34m\u001b[0m\u001b[0;34m\u001b[0m\u001b[0m\n",
            "\n",
            "\u001b[0;31mUnknownBackend\u001b[0m: No event loop integration for 'inline'. Supported event loops are: qt, qt4, qt5, gtk, gtk2, gtk3, tk, wx, pyglet, glut, osx\n",
            "/usr/local/lib/python3.6/dist-packages/IPython/utils/traitlets.py:5: UserWarning: IPython.utils.traitlets has moved to a top-level traitlets package.\n",
            "  warn(\"IPython.utils.traitlets has moved to a top-level traitlets package.\")\n",
            "/usr/local/lib/python3.6/dist-packages/sklearn/utils/deprecation.py:143: FutureWarning: The sklearn.preprocessing.data module is  deprecated in version 0.22 and will be removed in version 0.24. The corresponding classes / functions should instead be imported from sklearn.preprocessing. Anything that cannot be imported from sklearn.preprocessing is now part of the private API.\n",
            "  warnings.warn(message, FutureWarning)\n",
            "HBox(children=(FloatProgress(value=0.0, description='Downloading', max=625.0, style=ProgressStyle(description_width='initial')), HTML(value='')))\n",
            "\n",
            "HBox(children=(FloatProgress(value=0.0, description='Downloading', max=213450.0, style=ProgressStyle(description_width='initial')), HTML(value='')))\n",
            "\n",
            "2it [00:00, 3439.36it/s]\n",
            "HBox(children=(FloatProgress(value=0.0, description='Downloading', max=625.0, style=ProgressStyle(description_width='initial')), HTML(value='')))\n",
            "\n",
            "HBox(children=(FloatProgress(value=0.0, description='Downloading', max=1338740706.0, style=ProgressStyle(description_width='initial')), HTML(value='')))\n",
            "\n",
            "GPU available: True, used: True\n",
            "INFO:lightning:GPU available: True, used: True\n",
            "No environment variable for node rank defined. Set as 0.\n",
            "WARNING:lightning:No environment variable for node rank defined. Set as 0.\n",
            "CUDA_VISIBLE_DEVICES: [0]\n",
            "INFO:lightning:CUDA_VISIBLE_DEVICES: [0]\n",
            "HBox(children=(FloatProgress(value=1.0, bar_style='info', description='Testing', layout=Layout(flex='2'), max=1.0, style=ProgressStyle(description_width='initial')), HTML(value='')), layout=Layout(display='inline-flex', flex_flow='row wrap', width='100%'))\n",
            "\n",
            "Results: {'eval_f1': 0, 'eval_p': 0, 'eval_r': 0}\n",
            "--------------------------------------------------------------------------------\n",
            "TEST RESULTS\n",
            "{'eval_f1': 0, 'eval_p': 0, 'eval_r': 0, 'test_acc': 0}\n",
            "--------------------------------------------------------------------------------\n",
            "\n",
            "Total Time taken = 21.236730098724365 s\n"
          ]
        }
      ],
      "source": [
        "! cd openie6 && CUDA_DEVICE_ORDER=PCI_BUS_ID CUDA_VISIBLE_DEVICES=0 PYTHONPATH=imojie:imojie/allennlp:imojie/pytorch_transformers:$PYTHONPATH python run.py --save models/conj_model --mode predict --inp ../sentences.txt --batch_size 1 --model_str bert-large-cased --task conj --gpus 1 --out ../predictions.txt"
      ]
    },
    {
      "cell_type": "markdown",
      "source": [
        "Finally, the results."
      ],
      "metadata": {
        "id": "QMCjq8QY_Oge"
      }
    },
    {
      "cell_type": "code",
      "source": [
        "! cat predictions.txt.conj"
      ],
      "metadata": {
        "id": "L7Lok1TwAfkG",
        "outputId": "52ff06b7-bd99-4849-9bdc-02ea2050b1be",
        "colab": {
          "base_uri": "https://localhost:8080/"
        }
      },
      "execution_count": 18,
      "outputs": [
        {
          "output_type": "stream",
          "name": "stdout",
          "text": [
            "I love Luciano Pavarotti and Jose Carreras .\n",
            "I love Luciano Pavarotti .\n",
            "I love Jose Carreras .\n",
            "\n"
          ]
        }
      ]
    },
    {
      "cell_type": "markdown",
      "source": [
        "### CPU version (40 seconds or so)"
      ],
      "metadata": {
        "id": "uiMXKZMTTOcI"
      }
    },
    {
      "cell_type": "code",
      "source": [
        "! cd openie6 && PYTHONPATH=imojie:imojie/allennlp:imojie/pytorch_transformers:$PYTHONPATH python run.py --save models/conj_model --mode predict --inp ../sentences.txt --batch_size 1 --model_str bert-large-cased --task conj --out ../predictions.txt"
      ],
      "metadata": {
        "colab": {
          "base_uri": "https://localhost:8080/"
        },
        "id": "sqfOjGecTN90",
        "outputId": "0973b9aa-b6cd-4cea-ae5d-e50cc75c95f9"
      },
      "execution_count": 19,
      "outputs": [
        {
          "output_type": "stream",
          "name": "stdout",
          "text": [
            "/usr/local/lib/python3.6/dist-packages/traitlets/config/configurable.py:84: UserWarning: Config option `use_jedi` not recognized by `IPCompleter`.\n",
            "  self.config = config\n",
            "[TerminalIPythonApp] WARNING | GUI event loop or pylab initialization failed\n",
            "\u001b[0;31m\u001b[0m\n",
            "\u001b[0;31mUnknownBackend\u001b[0mTraceback (most recent call last)\n",
            "\u001b[0;32m/usr/local/lib/python3.6/dist-packages/IPython/core/interactiveshell.py\u001b[0m in \u001b[0;36menable_matplotlib\u001b[0;34m(self, gui)\u001b[0m\n",
            "\u001b[1;32m   2953\u001b[0m         \u001b[0;31m# Now we must activate the gui pylab wants to use, and fix %run to take\u001b[0m\u001b[0;34m\u001b[0m\u001b[0;34m\u001b[0m\u001b[0;34m\u001b[0m\u001b[0m\n",
            "\u001b[1;32m   2954\u001b[0m         \u001b[0;31m# plot updates into account\u001b[0m\u001b[0;34m\u001b[0m\u001b[0;34m\u001b[0m\u001b[0;34m\u001b[0m\u001b[0m\n",
            "\u001b[0;32m-> 2955\u001b[0;31m         \u001b[0mself\u001b[0m\u001b[0;34m.\u001b[0m\u001b[0menable_gui\u001b[0m\u001b[0;34m(\u001b[0m\u001b[0mgui\u001b[0m\u001b[0;34m)\u001b[0m\u001b[0;34m\u001b[0m\u001b[0;34m\u001b[0m\u001b[0m\n",
            "\u001b[0m\u001b[1;32m   2956\u001b[0m         \u001b[0mself\u001b[0m\u001b[0;34m.\u001b[0m\u001b[0mmagics_manager\u001b[0m\u001b[0;34m.\u001b[0m\u001b[0mregistry\u001b[0m\u001b[0;34m[\u001b[0m\u001b[0;34m'ExecutionMagics'\u001b[0m\u001b[0;34m]\u001b[0m\u001b[0;34m.\u001b[0m\u001b[0mdefault_runner\u001b[0m \u001b[0;34m=\u001b[0m\u001b[0;31m \u001b[0m\u001b[0;31m\\\u001b[0m\u001b[0;34m\u001b[0m\u001b[0;34m\u001b[0m\u001b[0m\n",
            "\u001b[1;32m   2957\u001b[0m             \u001b[0mpt\u001b[0m\u001b[0;34m.\u001b[0m\u001b[0mmpl_runner\u001b[0m\u001b[0;34m(\u001b[0m\u001b[0mself\u001b[0m\u001b[0;34m.\u001b[0m\u001b[0msafe_execfile\u001b[0m\u001b[0;34m)\u001b[0m\u001b[0;34m\u001b[0m\u001b[0;34m\u001b[0m\u001b[0m\n",
            "\n",
            "\u001b[0;32m/usr/local/lib/python3.6/dist-packages/IPython/terminal/interactiveshell.py\u001b[0m in \u001b[0;36menable_gui\u001b[0;34m(self, gui)\u001b[0m\n",
            "\u001b[1;32m    512\u001b[0m         \u001b[0;32mif\u001b[0m \u001b[0mgui\u001b[0m\u001b[0;34m:\u001b[0m\u001b[0;34m\u001b[0m\u001b[0;34m\u001b[0m\u001b[0m\n",
            "\u001b[1;32m    513\u001b[0m             \u001b[0mself\u001b[0m\u001b[0;34m.\u001b[0m\u001b[0mactive_eventloop\u001b[0m\u001b[0;34m,\u001b[0m \u001b[0mself\u001b[0m\u001b[0;34m.\u001b[0m\u001b[0m_inputhook\u001b[0m \u001b[0;34m=\u001b[0m\u001b[0;31m\\\u001b[0m\u001b[0;34m\u001b[0m\u001b[0;34m\u001b[0m\u001b[0m\n",
            "\u001b[0;32m--> 514\u001b[0;31m                 \u001b[0mget_inputhook_name_and_func\u001b[0m\u001b[0;34m(\u001b[0m\u001b[0mgui\u001b[0m\u001b[0;34m)\u001b[0m\u001b[0;34m\u001b[0m\u001b[0;34m\u001b[0m\u001b[0m\n",
            "\u001b[0m\u001b[1;32m    515\u001b[0m         \u001b[0;32melse\u001b[0m\u001b[0;34m:\u001b[0m\u001b[0;34m\u001b[0m\u001b[0;34m\u001b[0m\u001b[0m\n",
            "\u001b[1;32m    516\u001b[0m             \u001b[0mself\u001b[0m\u001b[0;34m.\u001b[0m\u001b[0mactive_eventloop\u001b[0m \u001b[0;34m=\u001b[0m \u001b[0mself\u001b[0m\u001b[0;34m.\u001b[0m\u001b[0m_inputhook\u001b[0m \u001b[0;34m=\u001b[0m \u001b[0;32mNone\u001b[0m\u001b[0;34m\u001b[0m\u001b[0;34m\u001b[0m\u001b[0m\n",
            "\n",
            "\u001b[0;32m/usr/local/lib/python3.6/dist-packages/IPython/terminal/pt_inputhooks/__init__.py\u001b[0m in \u001b[0;36mget_inputhook_name_and_func\u001b[0;34m(gui)\u001b[0m\n",
            "\u001b[1;32m     36\u001b[0m \u001b[0;34m\u001b[0m\u001b[0m\n",
            "\u001b[1;32m     37\u001b[0m     \u001b[0;32mif\u001b[0m \u001b[0mgui\u001b[0m \u001b[0;32mnot\u001b[0m \u001b[0;32min\u001b[0m \u001b[0mbackends\u001b[0m\u001b[0;34m:\u001b[0m\u001b[0;34m\u001b[0m\u001b[0;34m\u001b[0m\u001b[0m\n",
            "\u001b[0;32m---> 38\u001b[0;31m         \u001b[0;32mraise\u001b[0m \u001b[0mUnknownBackend\u001b[0m\u001b[0;34m(\u001b[0m\u001b[0mgui\u001b[0m\u001b[0;34m)\u001b[0m\u001b[0;34m\u001b[0m\u001b[0;34m\u001b[0m\u001b[0m\n",
            "\u001b[0m\u001b[1;32m     39\u001b[0m \u001b[0;34m\u001b[0m\u001b[0m\n",
            "\u001b[1;32m     40\u001b[0m     \u001b[0;32mif\u001b[0m \u001b[0mgui\u001b[0m \u001b[0;32min\u001b[0m \u001b[0maliases\u001b[0m\u001b[0;34m:\u001b[0m\u001b[0;34m\u001b[0m\u001b[0;34m\u001b[0m\u001b[0m\n",
            "\n",
            "\u001b[0;31mUnknownBackend\u001b[0m: No event loop integration for 'inline'. Supported event loops are: qt, qt4, qt5, gtk, gtk2, gtk3, tk, wx, pyglet, glut, osx\n",
            "/usr/local/lib/python3.6/dist-packages/IPython/utils/traitlets.py:5: UserWarning: IPython.utils.traitlets has moved to a top-level traitlets package.\n",
            "  warn(\"IPython.utils.traitlets has moved to a top-level traitlets package.\")\n",
            "/usr/local/lib/python3.6/dist-packages/sklearn/utils/deprecation.py:143: FutureWarning: The sklearn.preprocessing.data module is  deprecated in version 0.22 and will be removed in version 0.24. The corresponding classes / functions should instead be imported from sklearn.preprocessing. Anything that cannot be imported from sklearn.preprocessing is now part of the private API.\n",
            "  warnings.warn(message, FutureWarning)\n",
            "2it [00:00, 2806.49it/s]\n",
            "GPU available: True, used: True\n",
            "INFO:lightning:GPU available: True, used: True\n",
            "No environment variable for node rank defined. Set as 0.\n",
            "WARNING:lightning:No environment variable for node rank defined. Set as 0.\n",
            "HBox(children=(FloatProgress(value=1.0, bar_style='info', description='Testing', layout=Layout(flex='2'), max=1.0, style=ProgressStyle(description_width='initial')), HTML(value='')), layout=Layout(display='inline-flex', flex_flow='row wrap', width='100%'))\n",
            "Traceback (most recent call last):\n",
            "  File \"run.py\", line 470, in <module>\n",
            "    main(hyperparams)\n",
            "  File \"run.py\", line 460, in main\n",
            "    train_dataloader, val_dataloader, test_dataloader, all_sentences)\n",
            "  File \"run.py\", line 147, in predict\n",
            "    trainer.test(model, test_dataloaders=test_dataloader)\n",
            "  File \"/usr/local/lib/python3.6/dist-packages/pytorch_lightning/trainer/trainer.py\", line 1064, in test\n",
            "    self.fit(model)\n",
            "  File \"/usr/local/lib/python3.6/dist-packages/pytorch_lightning/trainer/trainer.py\", line 887, in fit\n",
            "    self.run_pretrain_routine(model)\n",
            "  File \"/usr/local/lib/python3.6/dist-packages/pytorch_lightning/trainer/trainer.py\", line 982, in run_pretrain_routine\n",
            "    self.run_evaluation(test_mode=True)\n",
            "  File \"/usr/local/lib/python3.6/dist-packages/pytorch_lightning/trainer/evaluation_loop.py\", line 377, in run_evaluation\n",
            "    eval_results = self._evaluate(self.model, dataloaders, max_batches, test_mode)\n",
            "  File \"/usr/local/lib/python3.6/dist-packages/pytorch_lightning/trainer/evaluation_loop.py\", line 277, in _evaluate\n",
            "    output = self.evaluation_forward(model, batch, batch_idx, dataloader_idx, test_mode)\n",
            "  File \"/usr/local/lib/python3.6/dist-packages/pytorch_lightning/trainer/evaluation_loop.py\", line 448, in evaluation_forward\n",
            "    output = model.test_step(*args)\n",
            "  File \"/content/openie6/model.py\", line 355, in test_step\n",
            "    return self.validation_step(batch, batch_idx)\n",
            "  File \"/content/openie6/model.py\", line 288, in validation_step\n",
            "    output_dict = self.forward(batch, mode='val', constraints=self.hparams.constraints, cweights=self.hparams.cweights)\n",
            "  File \"/content/openie6/model.py\", line 119, in forward\n",
            "    hidden_states, _ = self._base_model(batch.text)\n",
            "  File \"/usr/local/lib/python3.6/dist-packages/torch/nn/modules/module.py\", line 727, in _call_impl\n",
            "    result = self.forward(*input, **kwargs)\n",
            "  File \"/usr/local/lib/python3.6/dist-packages/transformers/modeling_bert.py\", line 783, in forward\n",
            "    input_ids=input_ids, position_ids=position_ids, token_type_ids=token_type_ids, inputs_embeds=inputs_embeds\n",
            "  File \"/usr/local/lib/python3.6/dist-packages/torch/nn/modules/module.py\", line 727, in _call_impl\n",
            "    result = self.forward(*input, **kwargs)\n",
            "  File \"/usr/local/lib/python3.6/dist-packages/transformers/modeling_bert.py\", line 173, in forward\n",
            "    inputs_embeds = self.word_embeddings(input_ids)\n",
            "  File \"/usr/local/lib/python3.6/dist-packages/torch/nn/modules/module.py\", line 727, in _call_impl\n",
            "    result = self.forward(*input, **kwargs)\n",
            "  File \"/usr/local/lib/python3.6/dist-packages/torch/nn/modules/sparse.py\", line 126, in forward\n",
            "    self.norm_type, self.scale_grad_by_freq, self.sparse)\n",
            "  File \"/usr/local/lib/python3.6/dist-packages/torch/nn/functional.py\", line 1852, in embedding\n",
            "    return torch.embedding(weight, input, padding_idx, scale_grad_by_freq, sparse)\n",
            "RuntimeError: Input, output and indices must be on the current device\n",
            "\n",
            "If you suspect this is an IPython bug, please report it at:\n",
            "    https://github.com/ipython/ipython/issues\n",
            "or send an email to the mailing list at ipython-dev@python.org\n",
            "\n",
            "You can print a more detailed traceback right now with \"%tb\", or use \"%debug\"\n",
            "to interactively debug it.\n",
            "\n",
            "Extra-detailed tracebacks for bug-reporting purposes can be enabled via:\n",
            "    %config Application.verbose_crash=True\n",
            "\n",
            "Exception ignored in: <object repr() failed>\n",
            "Traceback (most recent call last):\n",
            "  File \"/usr/local/lib/python3.6/dist-packages/tqdm/std.py\", line 1086, in __del__\n",
            "  File \"/usr/local/lib/python3.6/dist-packages/tqdm/notebook.py\", line 240, in close\n",
            "  File \"/usr/local/lib/python3.6/dist-packages/tqdm/std.py\", line 1293, in close\n",
            "  File \"/usr/local/lib/python3.6/dist-packages/tqdm/notebook.py\", line 143, in display\n",
            "  File \"/usr/local/lib/python3.6/dist-packages/tqdm/std.py\", line 1089, in __repr__\n",
            "  File \"/usr/local/lib/python3.6/dist-packages/tqdm/std.py\", line 1433, in format_dict\n",
            "TypeError: 'NoneType' object is not iterable\n"
          ]
        }
      ]
    },
    {
      "cell_type": "code",
      "source": [
        "! cat predictions.txt.conj"
      ],
      "metadata": {
        "colab": {
          "base_uri": "https://localhost:8080/"
        },
        "id": "HxGBFokyTcue",
        "outputId": "02262ce6-336a-42f8-f35a-a70671a6f222"
      },
      "execution_count": 20,
      "outputs": [
        {
          "output_type": "stream",
          "name": "stdout",
          "text": [
            "I love Luciano Pavarotti and Jose Carreras .\n",
            "I love Luciano Pavarotti .\n",
            "I love Jose Carreras .\n",
            "\n"
          ]
        }
      ]
    },
    {
      "cell_type": "code",
      "source": [
        "%ls"
      ],
      "metadata": {
        "id": "TEKUvOawUN2r",
        "outputId": "f3dce6ad-d599-425c-9fe0-f7a6da826eeb",
        "colab": {
          "base_uri": "https://localhost:8080/"
        }
      },
      "execution_count": 1,
      "outputs": [
        {
          "output_type": "stream",
          "name": "stdout",
          "text": [
            "\u001b[0m\u001b[01;34msample_data\u001b[0m/\n"
          ]
        }
      ]
    }
  ],
  "metadata": {
    "colab": {
      "provenance": [],
      "gpuType": "T4"
    },
    "kernelspec": {
      "display_name": "Python 3",
      "name": "python3"
    },
    "language_info": {
      "name": "python"
    }
  },
  "nbformat": 4,
  "nbformat_minor": 0
}