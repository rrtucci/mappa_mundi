{
  "cells": [
    {
      "cell_type": "markdown",
      "metadata": {
        "id": "jt2y_Nhb3_iI"
      },
      "source": [
        "# IGL-CA: inference pipeline\n",
        "Coordination analysis inference using the OpenIE6 model.\n",
        "\n",
        "* Anton's [OpenIE6 fork](https://github.com/alexeyev/openie6)\n",
        "* [OpenIE6 original repo](https://github.com/dair-iitd/openie6)\n",
        "* [OpenIE6 original paper](https://aclanthology.org/2020.emnlp-main.306/)\n",
        "\n",
        "Prepared by [Anton Alekseev](https://github.com/alexeyev) and [Anastasia Predelina](https://github.com/PredelinaAsya). Quite a bit of effort, tbh.\n",
        "\n",
        "**NOTA BENE**: GPU environment should be enabled before running the code! If not possible, another code cell for CPU-only environment is available at the very end of the notebook."
      ]
    },
    {
      "cell_type": "markdown",
      "source": [
        "## Getting the OpenIE6 code"
      ],
      "metadata": {
        "id": "cazO3i5mAqmF"
      }
    },
    {
      "cell_type": "code",
      "source": [
        "# ! rmdir openie6"
      ],
      "metadata": {
        "id": "_k9DVi6DEGNW"
      },
      "execution_count": null,
      "outputs": []
    },
    {
      "cell_type": "code",
      "execution_count": null,
      "metadata": {
        "id": "id7y2Z5S3_K1",
        "colab": {
          "base_uri": "https://localhost:8080/"
        },
        "outputId": "6927fbfc-ddd1-4008-d7bc-4088184e2c5f"
      },
      "outputs": [
        {
          "output_type": "stream",
          "name": "stdout",
          "text": [
            "Cloning into 'openie6'...\n",
            "remote: Enumerating objects: 1876, done.\u001b[K\n",
            "remote: Counting objects: 100% (56/56), done.\u001b[K\n",
            "remote: Compressing objects: 100% (37/37), done.\u001b[K\n",
            "remote: Total 1876 (delta 36), reused 29 (delta 19), pack-reused 1820\u001b[K\n",
            "Receiving objects: 100% (1876/1876), 8.52 MiB | 16.15 MiB/s, done.\n",
            "Resolving deltas: 100% (383/383), done.\n"
          ]
        }
      ],
      "source": [
        "! git clone https://github.com/alexeyev/openie6.git"
      ]
    },
    {
      "cell_type": "code",
      "execution_count": null,
      "metadata": {
        "id": "z4KmZH0x07_E"
      },
      "outputs": [],
      "source": [
        "! mkdir openie6/models"
      ]
    },
    {
      "cell_type": "markdown",
      "metadata": {
        "id": "7ymorrRj-TNi"
      },
      "source": [
        "## Downloading the model\n",
        "\n",
        "Let's get the CA model trained by the paper authors. Re-uploaded it to my gdrive to reduce the downloading time."
      ]
    },
    {
      "cell_type": "code",
      "execution_count": null,
      "metadata": {
        "id": "2f43ryTo0ljc",
        "colab": {
          "base_uri": "https://localhost:8080/"
        },
        "outputId": "327de599-f934-4ce1-c6e5-d35f5bc938ae"
      },
      "outputs": [
        {
          "output_type": "stream",
          "name": "stdout",
          "text": [
            "Downloading...\n",
            "From: https://drive.google.com/uc?id=185DK6eWKT6j6Oes04OIVFwJOKri8EVXV\n",
            "To: /content/conj_model.zip\n",
            "100% 3.61G/3.61G [01:10<00:00, 51.5MB/s]\n"
          ]
        }
      ],
      "source": [
        "! gdown 185DK6eWKT6j6Oes04OIVFwJOKri8EVXV"
      ]
    },
    {
      "cell_type": "code",
      "execution_count": null,
      "metadata": {
        "id": "SRoar-OAt38f",
        "colab": {
          "base_uri": "https://localhost:8080/"
        },
        "outputId": "08bf4efc-2158-4c9d-c7bd-df9a2adf5a4e"
      },
      "outputs": [
        {
          "output_type": "stream",
          "name": "stdout",
          "text": [
            "Archive:  conj_model.zip\n",
            "   creating: conj_model/\n",
            "  inflating: conj_model/epoch=28_eval_acc=0.854.ckpt  \n",
            "   creating: conj_model/logs/\n",
            "   creating: conj_model/logs/test/\n",
            "  inflating: conj_model/logs/test.txt  \n",
            "   creating: conj_model/logs/test/checkpoints/\n",
            "  inflating: conj_model/logs/test/events.out.tfevents.1601263425.vsky017.5076.0  \n",
            "  inflating: conj_model/logs/test/events.out.tfevents.1601263521.vsky017.5784.0  \n",
            "  inflating: conj_model/logs/test/hparams.yaml  \n"
          ]
        }
      ],
      "source": [
        "! unzip conj_model.zip"
      ]
    },
    {
      "cell_type": "code",
      "source": [
        "! rm conj_model.zip*\n",
        "! mv conj_model* openie6/models/"
      ],
      "metadata": {
        "id": "477V3NGeAEpZ"
      },
      "execution_count": null,
      "outputs": []
    },
    {
      "cell_type": "markdown",
      "source": [
        "## Creating a text sample"
      ],
      "metadata": {
        "id": "u6UqAGEiARao"
      }
    },
    {
      "cell_type": "code",
      "execution_count": null,
      "metadata": {
        "id": "VJ0_AfXm1Hrh",
        "colab": {
          "base_uri": "https://localhost:8080/"
        },
        "outputId": "68ccdb4b-c27d-401b-a880-3366d6100dc2"
      },
      "outputs": [
        {
          "output_type": "stream",
          "name": "stdout",
          "text": [
            "I love Luciano Pavarotti and Jose Carreras .\n"
          ]
        }
      ],
      "source": [
        "! echo \"I love Luciano Pavarotti and Jose Carreras .\" >> sentences.txt\n",
        "! cat sentences.txt"
      ]
    },
    {
      "cell_type": "markdown",
      "source": [
        "## Setting up Python3.6"
      ],
      "metadata": {
        "id": "EswrqXPXzRtY"
      }
    },
    {
      "cell_type": "code",
      "source": [
        "! sudo apt-get update -y -qq\n",
        "! sudo apt-get install python3.6 python3.6-distutils python3.6-dev -qq"
      ],
      "metadata": {
        "id": "o2khq941zVnN",
        "colab": {
          "base_uri": "https://localhost:8080/"
        },
        "outputId": "a8dddff0-9b07-43d7-f6f6-f3025c7340ee"
      },
      "execution_count": null,
      "outputs": [
        {
          "output_type": "stream",
          "name": "stdout",
          "text": [
            "debconf: unable to initialize frontend: Dialog\n",
            "debconf: (No usable dialog-like program is installed, so the dialog based frontend cannot be used. at /usr/share/perl5/Debconf/FrontEnd/Dialog.pm line 76, <> line 9.)\n",
            "debconf: falling back to frontend: Readline\n",
            "debconf: unable to initialize frontend: Readline\n",
            "debconf: (This frontend requires a controlling tty.)\n",
            "debconf: falling back to frontend: Teletype\n",
            "dpkg-preconfigure: unable to re-open stdin: \n",
            "Selecting previously unselected package libpython3.6-minimal:amd64.\n",
            "(Reading database ... 122541 files and directories currently installed.)\n",
            "Preparing to unpack .../0-libpython3.6-minimal_3.6.15-1+focal3_amd64.deb ...\n",
            "Unpacking libpython3.6-minimal:amd64 (3.6.15-1+focal3) ...\n",
            "Selecting previously unselected package python3.6-minimal.\n",
            "Preparing to unpack .../1-python3.6-minimal_3.6.15-1+focal3_amd64.deb ...\n",
            "Unpacking python3.6-minimal (3.6.15-1+focal3) ...\n",
            "Selecting previously unselected package libpython3.6-stdlib:amd64.\n",
            "Preparing to unpack .../2-libpython3.6-stdlib_3.6.15-1+focal3_amd64.deb ...\n",
            "Unpacking libpython3.6-stdlib:amd64 (3.6.15-1+focal3) ...\n",
            "Selecting previously unselected package libpython3.6:amd64.\n",
            "Preparing to unpack .../3-libpython3.6_3.6.15-1+focal3_amd64.deb ...\n",
            "Unpacking libpython3.6:amd64 (3.6.15-1+focal3) ...\n",
            "Selecting previously unselected package libpython3.6-dev:amd64.\n",
            "Preparing to unpack .../4-libpython3.6-dev_3.6.15-1+focal3_amd64.deb ...\n",
            "Unpacking libpython3.6-dev:amd64 (3.6.15-1+focal3) ...\n",
            "Selecting previously unselected package python3.6.\n",
            "Preparing to unpack .../5-python3.6_3.6.15-1+focal3_amd64.deb ...\n",
            "Unpacking python3.6 (3.6.15-1+focal3) ...\n",
            "Selecting previously unselected package python3.6-dev.\n",
            "Preparing to unpack .../6-python3.6-dev_3.6.15-1+focal3_amd64.deb ...\n",
            "Unpacking python3.6-dev (3.6.15-1+focal3) ...\n",
            "Selecting previously unselected package python3.6-lib2to3.\n",
            "Preparing to unpack .../7-python3.6-lib2to3_3.6.15-1+focal3_all.deb ...\n",
            "Unpacking python3.6-lib2to3 (3.6.15-1+focal3) ...\n",
            "Selecting previously unselected package python3.6-distutils.\n",
            "Preparing to unpack .../8-python3.6-distutils_3.6.15-1+focal3_all.deb ...\n",
            "Unpacking python3.6-distutils (3.6.15-1+focal3) ...\n",
            "Setting up libpython3.6-minimal:amd64 (3.6.15-1+focal3) ...\n",
            "Setting up python3.6-lib2to3 (3.6.15-1+focal3) ...\n",
            "Setting up python3.6-minimal (3.6.15-1+focal3) ...\n",
            "Setting up libpython3.6-stdlib:amd64 (3.6.15-1+focal3) ...\n",
            "Setting up python3.6 (3.6.15-1+focal3) ...\n",
            "Setting up python3.6-distutils (3.6.15-1+focal3) ...\n",
            "Setting up libpython3.6:amd64 (3.6.15-1+focal3) ...\n",
            "Setting up libpython3.6-dev:amd64 (3.6.15-1+focal3) ...\n",
            "Setting up python3.6-dev (3.6.15-1+focal3) ...\n",
            "Processing triggers for mime-support (3.64ubuntu1) ...\n",
            "Processing triggers for man-db (2.9.1-1) ...\n"
          ]
        }
      ]
    },
    {
      "cell_type": "code",
      "source": [
        "! ls /usr/bin/python3*"
      ],
      "metadata": {
        "colab": {
          "base_uri": "https://localhost:8080/"
        },
        "id": "fsoPj6axIArn",
        "outputId": "128341e3-7efb-4486-b0e8-4b95d37de39b"
      },
      "execution_count": null,
      "outputs": [
        {
          "output_type": "stream",
          "name": "stdout",
          "text": [
            "/usr/bin/python3\t    /usr/bin/python3.6m\n",
            "/usr/bin/python3.10\t    /usr/bin/python3.6m-config\n",
            "/usr/bin/python3.10-config  /usr/bin/python3.8\n",
            "/usr/bin/python3.6\t    /usr/bin/python3.8-config\n",
            "/usr/bin/python3.6-config   /usr/bin/python3-config\n"
          ]
        }
      ]
    },
    {
      "cell_type": "markdown",
      "source": [
        "Here you will have to select `python3.6` manually"
      ],
      "metadata": {
        "id": "rpxEWJBE-HIr"
      }
    },
    {
      "cell_type": "code",
      "source": [
        "!sudo update-alternatives --install /usr/bin/python3 python3 /usr/bin/python3.6 3\n",
        "!sudo update-alternatives --config python3"
      ],
      "metadata": {
        "id": "2BABFTA9znxw",
        "colab": {
          "base_uri": "https://localhost:8080/"
        },
        "outputId": "a4bb1e16-4ed1-44b6-eab7-478a9234bf27"
      },
      "execution_count": null,
      "outputs": [
        {
          "output_type": "stream",
          "name": "stdout",
          "text": [
            "update-alternatives: using /usr/bin/python3.6 to provide /usr/bin/python3 (python3) in auto mode\n",
            "There are 3 choices for the alternative python3 (providing /usr/bin/python3).\n",
            "\n",
            "  Selection    Path                 Priority   Status\n",
            "------------------------------------------------------------\n",
            "* 0            /usr/bin/python3.6    3         auto mode\n",
            "  1            /usr/bin/python3.10   2         manual mode\n",
            "  2            /usr/bin/python3.6    3         manual mode\n",
            "  3            /usr/bin/python3.8    1         manual mode\n",
            "\n",
            "Press <enter> to keep the current choice[*], or type selection number: *\n",
            "There are 3 choices for the alternative python3 (providing /usr/bin/python3).\n",
            "\n",
            "  Selection    Path                 Priority   Status\n",
            "------------------------------------------------------------\n",
            "* 0            /usr/bin/python3.6    3         auto mode\n",
            "  1            /usr/bin/python3.10   2         manual mode\n",
            "  2            /usr/bin/python3.6    3         manual mode\n",
            "  3            /usr/bin/python3.8    1         manual mode\n",
            "\n",
            "Press <enter> to keep the current choice[*], or type selection number: 0\n"
          ]
        }
      ]
    },
    {
      "cell_type": "markdown",
      "source": [
        "## Setting up the dependencies"
      ],
      "metadata": {
        "id": "a_6tjiz_-Q4h"
      }
    },
    {
      "cell_type": "code",
      "source": [
        "! rm get-pip*"
      ],
      "metadata": {
        "colab": {
          "base_uri": "https://localhost:8080/"
        },
        "id": "-sieVk3sIYdq",
        "outputId": "6d126d8c-f36f-4385-fc58-2d8571e122e9"
      },
      "execution_count": null,
      "outputs": [
        {
          "output_type": "stream",
          "name": "stdout",
          "text": [
            "rm: cannot remove 'get-pip*': No such file or directory\n"
          ]
        }
      ]
    },
    {
      "cell_type": "code",
      "source": [
        "! python3 --version\n",
        "! wget https://bootstrap.pypa.io/pip/3.6/get-pip.py\n",
        "! python get-pip.py"
      ],
      "metadata": {
        "id": "O9CBvYU00O6L",
        "colab": {
          "base_uri": "https://localhost:8080/"
        },
        "outputId": "e3a202bb-bc39-4f13-c3eb-86c980012c82"
      },
      "execution_count": null,
      "outputs": [
        {
          "output_type": "stream",
          "name": "stdout",
          "text": [
            "Python 3.6.15\n",
            "--2023-06-12 12:38:44--  https://bootstrap.pypa.io/pip/3.6/get-pip.py\n",
            "Resolving bootstrap.pypa.io (bootstrap.pypa.io)... 151.101.0.175, 151.101.64.175, 151.101.128.175, ...\n",
            "Connecting to bootstrap.pypa.io (bootstrap.pypa.io)|151.101.0.175|:443... connected.\n",
            "HTTP request sent, awaiting response... 200 OK\n",
            "Length: 2159061 (2.1M) [text/x-python]\n",
            "Saving to: ‘get-pip.py’\n",
            "\n",
            "get-pip.py          100%[===================>]   2.06M  --.-KB/s    in 0.08s   \n",
            "\n",
            "2023-06-12 12:38:44 (26.6 MB/s) - ‘get-pip.py’ saved [2159061/2159061]\n",
            "\n",
            "Looking in indexes: https://pypi.org/simple, https://us-python.pkg.dev/colab-wheels/public/simple/\n",
            "Collecting pip<22.0\n",
            "  Downloading pip-21.3.1-py3-none-any.whl (1.7 MB)\n",
            "     |████████████████████████████████| 1.7 MB 4.3 MB/s            \n",
            "\u001b[?25hCollecting setuptools\n",
            "  Downloading setuptools-59.6.0-py3-none-any.whl (952 kB)\n",
            "     |████████████████████████████████| 952 kB 46.0 MB/s            \n",
            "\u001b[?25hCollecting wheel\n",
            "  Downloading wheel-0.37.1-py2.py3-none-any.whl (35 kB)\n",
            "Installing collected packages: wheel, setuptools, pip\n",
            "Successfully installed pip-21.3.1 setuptools-59.6.0 wheel-0.37.1\n",
            "\u001b[33mWARNING: Running pip as the 'root' user can result in broken permissions and conflicting behaviour with the system package manager. It is recommended to use a virtual environment instead: https://pip.pypa.io/warnings/venv\u001b[0m\n"
          ]
        }
      ]
    },
    {
      "cell_type": "markdown",
      "source": [
        "Satisfying a few more dependencies just in case"
      ],
      "metadata": {
        "id": "W8ebbFgTAkPM"
      }
    },
    {
      "cell_type": "code",
      "source": [
        "! python -m pip install -q wheel setuptools pip --upgrade"
      ],
      "metadata": {
        "id": "mz7bmfmZFcc8",
        "colab": {
          "base_uri": "https://localhost:8080/"
        },
        "outputId": "ca72e08e-d88a-4bbd-fe86-6f88d42b2df1"
      },
      "execution_count": null,
      "outputs": [
        {
          "output_type": "stream",
          "name": "stdout",
          "text": [
            "\u001b[33mWARNING: Running pip as the 'root' user can result in broken permissions and conflicting behaviour with the system package manager. It is recommended to use a virtual environment instead: https://pip.pypa.io/warnings/venv\u001b[0m\n"
          ]
        }
      ]
    },
    {
      "cell_type": "code",
      "source": [
        "! python -m pip install -q -r openie6/requirements.txt"
      ],
      "metadata": {
        "id": "MVVcBd1uApuG",
        "colab": {
          "base_uri": "https://localhost:8080/"
        },
        "outputId": "4cd65455-4ad8-4c8d-8b1d-41f3d6c97413"
      },
      "execution_count": null,
      "outputs": [
        {
          "output_type": "stream",
          "name": "stdout",
          "text": [
            "     |████████████████████████████████| 12.0 MB 3.9 MB/s            \n",
            "\u001b[?25h  Preparing metadata (setup.py) ... \u001b[?25l\u001b[?25hdone\n",
            "     |████████████████████████████████| 776.8 MB 12 kB/s              \n",
            "     |████████████████████████████████| 123 kB 52.3 MB/s            \n",
            "     |████████████████████████████████| 104 kB 60.6 MB/s            \n",
            "\u001b[?25h  Preparing metadata (setup.py) ... \u001b[?25l\u001b[?25hdone\n",
            "     |████████████████████████████████| 3.7 MB 40.8 MB/s            \n",
            "     |████████████████████████████████| 156 kB 51.3 MB/s            \n",
            "     |████████████████████████████████| 133 kB 81.0 MB/s            \n",
            "     |████████████████████████████████| 82 kB 914 kB/s             \n",
            "\u001b[?25h  Preparing metadata (setup.py) ... \u001b[?25l\u001b[?25hdone\n",
            "     |████████████████████████████████| 829 kB 49.0 MB/s            \n",
            "\u001b[?25h  Preparing metadata (setup.py) ... \u001b[?25l\u001b[?25hdone\n",
            "     |████████████████████████████████| 90 kB 8.0 MB/s             \n",
            "     |████████████████████████████████| 3.0 MB 42.4 MB/s            \n",
            "     |████████████████████████████████| 58 kB 5.2 MB/s             \n",
            "     |████████████████████████████████| 3.3 MB 39.1 MB/s            \n",
            "\u001b[?25h  Preparing metadata (setup.py) ... \u001b[?25l\u001b[?25hdone\n",
            "     |████████████████████████████████| 785 kB 42.1 MB/s            \n",
            "     |████████████████████████████████| 1.4 MB 49.0 MB/s            \n",
            "     |████████████████████████████████| 298 kB 60.1 MB/s            \n",
            "     |████████████████████████████████| 88 kB 7.1 MB/s             \n",
            "     |████████████████████████████████| 1.4 MB 66.6 MB/s            \n",
            "\u001b[?25h  Preparing metadata (setup.py) ... \u001b[?25l\u001b[?25hdone\n",
            "     |████████████████████████████████| 14.6 MB 70.1 MB/s            \n",
            "     |████████████████████████████████| 147 kB 77.4 MB/s            \n",
            "\u001b[?25h  Preparing metadata (setup.py) ... \u001b[?25l\u001b[?25hdone\n",
            "     |████████████████████████████████| 10.1 MB 51.4 MB/s            \n",
            "     |████████████████████████████████| 100 kB 8.7 MB/s            \n",
            "     |████████████████████████████████| 59 kB 5.4 MB/s             \n",
            "     |████████████████████████████████| 2.1 MB 46.0 MB/s            \n",
            "     |████████████████████████████████| 119 kB 46.4 MB/s            \n",
            "     |████████████████████████████████| 351 kB 46.4 MB/s            \n",
            "     |████████████████████████████████| 1.3 MB 47.3 MB/s            \n",
            "     |████████████████████████████████| 77 kB 5.1 MB/s             \n",
            "     |████████████████████████████████| 155 kB 44.7 MB/s            \n",
            "     |████████████████████████████████| 914 kB 61.4 MB/s            \n",
            "     |████████████████████████████████| 67 kB 4.2 MB/s             \n",
            "     |████████████████████████████████| 227 kB 76.4 MB/s            \n",
            "     |████████████████████████████████| 248 kB 64.8 MB/s            \n",
            "     |████████████████████████████████| 510 kB 66.9 MB/s            \n",
            "     |████████████████████████████████| 269 kB 75.1 MB/s            \n",
            "\u001b[?25h  Preparing metadata (setup.py) ... \u001b[?25l\u001b[?25hdone\n",
            "     |████████████████████████████████| 660 kB 57.2 MB/s            \n",
            "     |████████████████████████████████| 61 kB 334 kB/s             \n",
            "     |████████████████████████████████| 47 kB 3.5 MB/s             \n",
            "     |████████████████████████████████| 883 kB 57.3 MB/s            \n",
            "\u001b[?25h  Preparing metadata (setup.py) ... \u001b[?25l\u001b[?25hdone\n",
            "     |████████████████████████████████| 6.8 MB 47.2 MB/s            \n",
            "     |████████████████████████████████| 25.9 MB 62.6 MB/s            \n",
            "     |████████████████████████████████| 1.1 MB 39.6 MB/s            \n",
            "\u001b[?25h  Preparing metadata (setup.py) ... \u001b[?25l\u001b[?25hdone\n",
            "     |████████████████████████████████| 10.0 MB 708 kB/s            \n",
            "     |████████████████████████████████| 185 kB 72.2 MB/s            \n",
            "     |████████████████████████████████| 3.0 MB 40.8 MB/s            \n",
            "     |████████████████████████████████| 779 kB 51.8 MB/s            \n",
            "\u001b[?25h  Preparing metadata (setup.py) ... \u001b[?25l\u001b[?25hdone\n",
            "     |████████████████████████████████| 2.1 MB 52.3 MB/s            \n",
            "     |████████████████████████████████| 73 kB 1.6 MB/s             \n",
            "     |████████████████████████████████| 66 kB 4.7 MB/s             \n",
            "     |████████████████████████████████| 75 kB 3.9 MB/s             \n",
            "     |████████████████████████████████| 540 kB 68.3 MB/s            \n",
            "     |████████████████████████████████| 3.7 MB 46.3 MB/s            \n",
            "     |████████████████████████████████| 126 kB 57.0 MB/s            \n",
            "\u001b[?25h  Preparing metadata (setup.py) ... \u001b[?25l\u001b[?25hdone\n",
            "     |████████████████████████████████| 298 kB 56.8 MB/s            \n",
            "\u001b[?25h  Preparing metadata (setup.py) ... \u001b[?25l\u001b[?25hdone\n",
            "     |████████████████████████████████| 238 kB 58.4 MB/s            \n",
            "     |████████████████████████████████| 128 kB 76.3 MB/s            \n",
            "     |████████████████████████████████| 178 kB 49.6 MB/s            \n",
            "     |████████████████████████████████| 4.5 MB 60.4 MB/s            \n",
            "\u001b[?25h  Preparing metadata (setup.py) ... \u001b[?25l\u001b[?25hdone\n",
            "     |████████████████████████████████| 13.1 MB 60.4 MB/s            \n",
            "     |████████████████████████████████| 58 kB 5.3 MB/s             \n",
            "\u001b[?25h  Preparing metadata (setup.py) ... \u001b[?25l\u001b[?25hdone\n",
            "  Preparing metadata (setup.py) ... \u001b[?25l\u001b[?25hdone\n",
            "     |████████████████████████████████| 5.9 MB 34.4 MB/s            \n",
            "     |████████████████████████████████| 94 kB 2.6 MB/s             \n",
            "     |████████████████████████████████| 2.9 MB 29.0 MB/s            \n",
            "     |████████████████████████████████| 2.7 MB 41.7 MB/s            \n",
            "     |████████████████████████████████| 45 kB 2.7 MB/s             \n",
            "\u001b[?25h  Preparing metadata (setup.py) ... \u001b[?25l\u001b[?25hdone\n",
            "     |████████████████████████████████| 110 kB 57.2 MB/s            \n",
            "\u001b[?25h  Preparing metadata (setup.py) ... \u001b[?25l\u001b[?25hdone\n",
            "     |████████████████████████████████| 253 kB 46.5 MB/s            \n",
            "\u001b[?25h  Preparing metadata (setup.py) ... \u001b[?25l\u001b[?25hdone\n",
            "     |████████████████████████████████| 234 kB 39.4 MB/s            \n",
            "     |████████████████████████████████| 6.4 MB 49.1 MB/s            \n",
            "     |████████████████████████████████| 190 kB 53.1 MB/s            \n",
            "     |████████████████████████████████| 55 kB 3.6 MB/s             \n",
            "     |████████████████████████████████| 112 kB 49.1 MB/s            \n",
            "     |████████████████████████████████| 43 kB 1.2 MB/s             \n",
            "     |████████████████████████████████| 70 kB 6.4 MB/s             \n",
            "     |████████████████████████████████| 1.1 MB 58.6 MB/s            \n",
            "     |████████████████████████████████| 133 kB 66.7 MB/s            \n",
            "     |████████████████████████████████| 547 kB 59.9 MB/s            \n",
            "     |████████████████████████████████| 94 kB 1.9 MB/s             \n",
            "     |████████████████████████████████| 121 kB 68.6 MB/s            \n",
            "     |████████████████████████████████| 93 kB 997 kB/s             \n",
            "     |████████████████████████████████| 9.5 MB 51.9 MB/s            \n",
            "     |████████████████████████████████| 90 kB 7.9 MB/s             \n",
            "     |████████████████████████████████| 84 kB 2.7 MB/s             \n",
            "     |████████████████████████████████| 100 kB 8.1 MB/s            \n",
            "     |████████████████████████████████| 60 kB 6.1 MB/s             \n",
            "     |████████████████████████████████| 98 kB 7.4 MB/s             \n",
            "     |████████████████████████████████| 52 kB 765 kB/s             \n",
            "\u001b[?25h  Building wheel for absl-py (setup.py) ... \u001b[?25l\u001b[?25hdone\n",
            "  Building wheel for docopt (setup.py) ... \u001b[?25l\u001b[?25hdone\n",
            "  Building wheel for future (setup.py) ... \u001b[?25l\u001b[?25hdone\n",
            "  Building wheel for ipdb (setup.py) ... \u001b[?25l\u001b[?25hdone\n",
            "  Building wheel for nltk (setup.py) ... \u001b[?25l\u001b[?25hdone\n",
            "  Building wheel for overrides (setup.py) ... \u001b[?25l\u001b[?25hdone\n",
            "  Building wheel for PyYAML (setup.py) ... \u001b[?25l\u001b[?25hdone\n",
            "  Building wheel for sacremoses (setup.py) ... \u001b[?25l\u001b[?25hdone\n",
            "  Building wheel for sklearn (setup.py) ... \u001b[?25l\u001b[?25hdone\n",
            "  Building wheel for test-tube (setup.py) ... \u001b[?25l\u001b[?25hdone\n",
            "  Building wheel for wasabi (setup.py) ... \u001b[?25l\u001b[?25hdone\n",
            "  Building wheel for wget (setup.py) ... \u001b[?25l\u001b[?25hdone\n",
            "  Building wheel for word2number (setup.py) ... \u001b[?25l\u001b[?25hdone\n",
            "  Building wheel for ftfy (setup.py) ... \u001b[?25l\u001b[?25hdone\n",
            "  Building wheel for numpydoc (setup.py) ... \u001b[?25l\u001b[?25hdone\n",
            "  Building wheel for parsimonious (setup.py) ... \u001b[?25l\u001b[?25hdone\n",
            "  Building wheel for thinqpbo (setup.py) ... \u001b[?25l\u001b[?25hdone\n",
            "  Building wheel for jsonnet (setup.py) ... \u001b[?25l\u001b[?25hdone\n",
            "  Building wheel for en-core-web-sm (setup.py) ... \u001b[?25l\u001b[?25hdone\n",
            "\u001b[33mWARNING: Running pip as the 'root' user can result in broken permissions and conflicting behaviour with the system package manager. It is recommended to use a virtual environment instead: https://pip.pypa.io/warnings/venv\u001b[0m\n"
          ]
        }
      ]
    },
    {
      "cell_type": "code",
      "source": [
        "! python -m nltk.downloader stopwords\n",
        "! python -m nltk.downloader punkt"
      ],
      "metadata": {
        "id": "3E_Sh3aBbKqC",
        "colab": {
          "base_uri": "https://localhost:8080/"
        },
        "outputId": "8c4a2d10-48c5-4e10-e696-f55cf9a4da26"
      },
      "execution_count": null,
      "outputs": [
        {
          "output_type": "stream",
          "name": "stdout",
          "text": [
            "/usr/lib/python3.6/runpy.py:125: RuntimeWarning: 'nltk.downloader' found in sys.modules after import of package 'nltk', but prior to execution of 'nltk.downloader'; this may result in unpredictable behaviour\n",
            "  warn(RuntimeWarning(msg))\n",
            "[nltk_data] Downloading package stopwords to /root/nltk_data...\n",
            "[nltk_data]   Unzipping corpora/stopwords.zip.\n",
            "/usr/lib/python3.6/runpy.py:125: RuntimeWarning: 'nltk.downloader' found in sys.modules after import of package 'nltk', but prior to execution of 'nltk.downloader'; this may result in unpredictable behaviour\n",
            "  warn(RuntimeWarning(msg))\n",
            "[nltk_data] Downloading package punkt to /root/nltk_data...\n",
            "[nltk_data]   Unzipping tokenizers/punkt.zip.\n"
          ]
        }
      ]
    },
    {
      "cell_type": "markdown",
      "source": [
        "Colab-specific dependencies"
      ],
      "metadata": {
        "id": "CwogyO27-etq"
      }
    },
    {
      "cell_type": "code",
      "source": [
        "! python -m pip install -q ipykernel google-colab ipywidgets"
      ],
      "metadata": {
        "id": "fDlX9kyJK5xI",
        "colab": {
          "base_uri": "https://localhost:8080/"
        },
        "outputId": "82233dce-e19e-4fc5-8aae-ed78fdbd244f"
      },
      "execution_count": null,
      "outputs": [
        {
          "output_type": "stream",
          "name": "stdout",
          "text": [
            "     |████████████████████████████████| 121 kB 4.1 MB/s            \n",
            "     |████████████████████████████████| 72 kB 1.2 MB/s             \n",
            "\u001b[?25h  Preparing metadata (setup.py) ... \u001b[?25l\u001b[?25hdone\n",
            "     |████████████████████████████████| 123 kB 16.4 MB/s            \n",
            "     |████████████████████████████████| 130 kB 47.0 MB/s            \n",
            "     |████████████████████████████████| 427 kB 20.1 MB/s            \n",
            "     |████████████████████████████████| 64 kB 2.3 MB/s             \n",
            "     |████████████████████████████████| 104 kB 47.3 MB/s            \n",
            "     |████████████████████████████████| 758 kB 43.9 MB/s            \n",
            "     |████████████████████████████████| 8.0 MB 48.2 MB/s            \n",
            "     |████████████████████████████████| 10.1 MB 47.7 MB/s            \n",
            "\u001b[?25h  Preparing metadata (setup.py) ... \u001b[?25l\u001b[?25hdone\n",
            "     |████████████████████████████████| 57 kB 3.5 MB/s             \n",
            "     |████████████████████████████████| 484 kB 44.8 MB/s            \n",
            "\u001b[?25h  Preparing metadata (setup.py) ... \u001b[?25l\u001b[?25hdone\n",
            "     |████████████████████████████████| 246 kB 46.4 MB/s            \n",
            "     |████████████████████████████████| 1.6 MB 45.2 MB/s            \n",
            "\u001b[?25h  Preparing metadata (setup.py) ... \u001b[?25l\u001b[?25hdone\n",
            "     |████████████████████████████████| 245 kB 41.3 MB/s            \n",
            "     |████████████████████████████████| 86 kB 5.2 MB/s             \n",
            "     |████████████████████████████████| 178 kB 50.3 MB/s            \n",
            "     |████████████████████████████████| 552 kB 48.7 MB/s            \n",
            "     |████████████████████████████████| 118 kB 48.4 MB/s            \n",
            "     |████████████████████████████████| 58 kB 5.1 MB/s             \n",
            "     |████████████████████████████████| 1.1 MB 45.3 MB/s            \n",
            "     |████████████████████████████████| 157 kB 48.4 MB/s            \n",
            "     |████████████████████████████████| 69 kB 6.8 MB/s             \n",
            "     |████████████████████████████████| 83 kB 2.2 MB/s             \n",
            "     |████████████████████████████████| 56 kB 4.0 MB/s             \n",
            "     |████████████████████████████████| 117 kB 49.4 MB/s            \n",
            "\u001b[?25h  Building wheel for google-colab (setup.py) ... \u001b[?25l\u001b[?25hdone\n",
            "  Building wheel for portpicker (setup.py) ... \u001b[?25l\u001b[?25hdone\n",
            "  Building wheel for tornado (setup.py) ... \u001b[?25l\u001b[?25hdone\n",
            "  Building wheel for simplegeneric (setup.py) ... \u001b[?25l\u001b[?25hdone\n",
            "\u001b[31mERROR: pip's dependency resolver does not currently take into account all the packages that are installed. This behaviour is the source of the following dependency conflicts.\n",
            "tensorboard 2.2.2 requires google-auth<2,>=1.6.3, but you have google-auth 1.4.2 which is incompatible.\u001b[0m\n",
            "\u001b[33mWARNING: Running pip as the 'root' user can result in broken permissions and conflicting behaviour with the system package manager. It is recommended to use a virtual environment instead: https://pip.pypa.io/warnings/venv\u001b[0m\n"
          ]
        }
      ]
    },
    {
      "cell_type": "markdown",
      "source": [
        "## Running coordination analysis model\n",
        "\n",
        "Please don't pay attention to the `UnknownBackend` warnings.\n",
        "\n",
        "The `sentences.txt` samples will be converted to shorter sentences in `predictions.txt.conj`."
      ],
      "metadata": {
        "id": "nV7_ESGn8vfa"
      }
    },
    {
      "cell_type": "markdown",
      "source": [
        "### GPU version (20 seconds or so)"
      ],
      "metadata": {
        "id": "ZTB_a881UVTd"
      }
    },
    {
      "cell_type": "code",
      "execution_count": null,
      "metadata": {
        "id": "icqnx2tdoQ6F"
      },
      "outputs": [],
      "source": [
        "! cd openie6 && CUDA_DEVICE_ORDER=PCI_BUS_ID CUDA_VISIBLE_DEVICES=0 PYTHONPATH=imojie:imojie/allennlp:imojie/pytorch_transformers:$PYTHONPATH python run.py --save models/conj_model --mode predict --inp ../sentences.txt --batch_size 1 --model_str bert-large-cased --task conj --gpus 1 --out ../predictions.txt"
      ]
    },
    {
      "cell_type": "markdown",
      "source": [
        "Finally, the results."
      ],
      "metadata": {
        "id": "QMCjq8QY_Oge"
      }
    },
    {
      "cell_type": "code",
      "source": [
        "! cat predictions.txt.conj"
      ],
      "metadata": {
        "id": "L7Lok1TwAfkG"
      },
      "execution_count": null,
      "outputs": []
    },
    {
      "cell_type": "markdown",
      "source": [
        "### CPU version (40 seconds or so)"
      ],
      "metadata": {
        "id": "uiMXKZMTTOcI"
      }
    },
    {
      "cell_type": "code",
      "source": [
        "! cd openie6 && PYTHONPATH=imojie:imojie/allennlp:imojie/pytorch_transformers:$PYTHONPATH python run.py --save models/conj_model --mode predict --inp ../sentences.txt --batch_size 1 --model_str bert-large-cased --task conj --out ../predictions.txt"
      ],
      "metadata": {
        "colab": {
          "base_uri": "https://localhost:8080/"
        },
        "id": "sqfOjGecTN90",
        "outputId": "ae0d9856-3b1b-4159-8bbe-2693dc2ef15f"
      },
      "execution_count": null,
      "outputs": [
        {
          "output_type": "stream",
          "name": "stdout",
          "text": [
            "/usr/local/lib/python3.6/dist-packages/traitlets/config/configurable.py:84: UserWarning: Config option `use_jedi` not recognized by `IPCompleter`.\n",
            "  self.config = config\n",
            "[TerminalIPythonApp] WARNING | GUI event loop or pylab initialization failed\n",
            "\u001b[0;31m\u001b[0m\n",
            "\u001b[0;31mUnknownBackend\u001b[0mTraceback (most recent call last)\n",
            "\u001b[0;32m/usr/local/lib/python3.6/dist-packages/IPython/core/interactiveshell.py\u001b[0m in \u001b[0;36menable_matplotlib\u001b[0;34m(self, gui)\u001b[0m\n",
            "\u001b[1;32m   2953\u001b[0m         \u001b[0;31m# Now we must activate the gui pylab wants to use, and fix %run to take\u001b[0m\u001b[0;34m\u001b[0m\u001b[0;34m\u001b[0m\u001b[0;34m\u001b[0m\u001b[0m\n",
            "\u001b[1;32m   2954\u001b[0m         \u001b[0;31m# plot updates into account\u001b[0m\u001b[0;34m\u001b[0m\u001b[0;34m\u001b[0m\u001b[0;34m\u001b[0m\u001b[0m\n",
            "\u001b[0;32m-> 2955\u001b[0;31m         \u001b[0mself\u001b[0m\u001b[0;34m.\u001b[0m\u001b[0menable_gui\u001b[0m\u001b[0;34m(\u001b[0m\u001b[0mgui\u001b[0m\u001b[0;34m)\u001b[0m\u001b[0;34m\u001b[0m\u001b[0;34m\u001b[0m\u001b[0m\n",
            "\u001b[0m\u001b[1;32m   2956\u001b[0m         \u001b[0mself\u001b[0m\u001b[0;34m.\u001b[0m\u001b[0mmagics_manager\u001b[0m\u001b[0;34m.\u001b[0m\u001b[0mregistry\u001b[0m\u001b[0;34m[\u001b[0m\u001b[0;34m'ExecutionMagics'\u001b[0m\u001b[0;34m]\u001b[0m\u001b[0;34m.\u001b[0m\u001b[0mdefault_runner\u001b[0m \u001b[0;34m=\u001b[0m\u001b[0;31m \u001b[0m\u001b[0;31m\\\u001b[0m\u001b[0;34m\u001b[0m\u001b[0;34m\u001b[0m\u001b[0m\n",
            "\u001b[1;32m   2957\u001b[0m             \u001b[0mpt\u001b[0m\u001b[0;34m.\u001b[0m\u001b[0mmpl_runner\u001b[0m\u001b[0;34m(\u001b[0m\u001b[0mself\u001b[0m\u001b[0;34m.\u001b[0m\u001b[0msafe_execfile\u001b[0m\u001b[0;34m)\u001b[0m\u001b[0;34m\u001b[0m\u001b[0;34m\u001b[0m\u001b[0m\n",
            "\n",
            "\u001b[0;32m/usr/local/lib/python3.6/dist-packages/IPython/terminal/interactiveshell.py\u001b[0m in \u001b[0;36menable_gui\u001b[0;34m(self, gui)\u001b[0m\n",
            "\u001b[1;32m    512\u001b[0m         \u001b[0;32mif\u001b[0m \u001b[0mgui\u001b[0m\u001b[0;34m:\u001b[0m\u001b[0;34m\u001b[0m\u001b[0;34m\u001b[0m\u001b[0m\n",
            "\u001b[1;32m    513\u001b[0m             \u001b[0mself\u001b[0m\u001b[0;34m.\u001b[0m\u001b[0mactive_eventloop\u001b[0m\u001b[0;34m,\u001b[0m \u001b[0mself\u001b[0m\u001b[0;34m.\u001b[0m\u001b[0m_inputhook\u001b[0m \u001b[0;34m=\u001b[0m\u001b[0;31m\\\u001b[0m\u001b[0;34m\u001b[0m\u001b[0;34m\u001b[0m\u001b[0m\n",
            "\u001b[0;32m--> 514\u001b[0;31m                 \u001b[0mget_inputhook_name_and_func\u001b[0m\u001b[0;34m(\u001b[0m\u001b[0mgui\u001b[0m\u001b[0;34m)\u001b[0m\u001b[0;34m\u001b[0m\u001b[0;34m\u001b[0m\u001b[0m\n",
            "\u001b[0m\u001b[1;32m    515\u001b[0m         \u001b[0;32melse\u001b[0m\u001b[0;34m:\u001b[0m\u001b[0;34m\u001b[0m\u001b[0;34m\u001b[0m\u001b[0m\n",
            "\u001b[1;32m    516\u001b[0m             \u001b[0mself\u001b[0m\u001b[0;34m.\u001b[0m\u001b[0mactive_eventloop\u001b[0m \u001b[0;34m=\u001b[0m \u001b[0mself\u001b[0m\u001b[0;34m.\u001b[0m\u001b[0m_inputhook\u001b[0m \u001b[0;34m=\u001b[0m \u001b[0;32mNone\u001b[0m\u001b[0;34m\u001b[0m\u001b[0;34m\u001b[0m\u001b[0m\n",
            "\n",
            "\u001b[0;32m/usr/local/lib/python3.6/dist-packages/IPython/terminal/pt_inputhooks/__init__.py\u001b[0m in \u001b[0;36mget_inputhook_name_and_func\u001b[0;34m(gui)\u001b[0m\n",
            "\u001b[1;32m     36\u001b[0m \u001b[0;34m\u001b[0m\u001b[0m\n",
            "\u001b[1;32m     37\u001b[0m     \u001b[0;32mif\u001b[0m \u001b[0mgui\u001b[0m \u001b[0;32mnot\u001b[0m \u001b[0;32min\u001b[0m \u001b[0mbackends\u001b[0m\u001b[0;34m:\u001b[0m\u001b[0;34m\u001b[0m\u001b[0;34m\u001b[0m\u001b[0m\n",
            "\u001b[0;32m---> 38\u001b[0;31m         \u001b[0;32mraise\u001b[0m \u001b[0mUnknownBackend\u001b[0m\u001b[0;34m(\u001b[0m\u001b[0mgui\u001b[0m\u001b[0;34m)\u001b[0m\u001b[0;34m\u001b[0m\u001b[0;34m\u001b[0m\u001b[0m\n",
            "\u001b[0m\u001b[1;32m     39\u001b[0m \u001b[0;34m\u001b[0m\u001b[0m\n",
            "\u001b[1;32m     40\u001b[0m     \u001b[0;32mif\u001b[0m \u001b[0mgui\u001b[0m \u001b[0;32min\u001b[0m \u001b[0maliases\u001b[0m\u001b[0;34m:\u001b[0m\u001b[0;34m\u001b[0m\u001b[0;34m\u001b[0m\u001b[0m\n",
            "\n",
            "\u001b[0;31mUnknownBackend\u001b[0m: No event loop integration for 'inline'. Supported event loops are: qt, qt4, qt5, gtk, gtk2, gtk3, tk, wx, pyglet, glut, osx\n",
            "/usr/local/lib/python3.6/dist-packages/IPython/utils/traitlets.py:5: UserWarning: IPython.utils.traitlets has moved to a top-level traitlets package.\n",
            "  warn(\"IPython.utils.traitlets has moved to a top-level traitlets package.\")\n",
            "/usr/local/lib/python3.6/dist-packages/sklearn/utils/deprecation.py:143: FutureWarning: The sklearn.preprocessing.data module is  deprecated in version 0.22 and will be removed in version 0.24. The corresponding classes / functions should instead be imported from sklearn.preprocessing. Anything that cannot be imported from sklearn.preprocessing is now part of the private API.\n",
            "  warnings.warn(message, FutureWarning)\n",
            "2it [00:00, 2239.95it/s]\n",
            "GPU available: False, used: False\n",
            "INFO:lightning:GPU available: False, used: False\n",
            "No environment variable for node rank defined. Set as 0.\n",
            "WARNING:lightning:No environment variable for node rank defined. Set as 0.\n",
            "HBox(children=(FloatProgress(value=1.0, bar_style='info', description='Testing', layout=Layout(flex='2'), max=1.0, style=ProgressStyle(description_width='initial')), HTML(value='')), layout=Layout(display='inline-flex', flex_flow='row wrap', width='100%'))\n",
            "\n",
            "Results: {'eval_f1': 0, 'eval_p': 0, 'eval_r': 0}\n",
            "--------------------------------------------------------------------------------\n",
            "TEST RESULTS\n",
            "{'eval_f1': 0, 'eval_p': 0, 'eval_r': 0, 'test_acc': 0}\n",
            "--------------------------------------------------------------------------------\n",
            "\n",
            "Total Time taken = 37.90574932098389 s\n"
          ]
        }
      ]
    },
    {
      "cell_type": "code",
      "source": [
        "! cat predictions.txt.conj"
      ],
      "metadata": {
        "colab": {
          "base_uri": "https://localhost:8080/"
        },
        "id": "HxGBFokyTcue",
        "outputId": "1067b288-e097-4625-f7e5-7494347d75df"
      },
      "execution_count": null,
      "outputs": [
        {
          "output_type": "stream",
          "name": "stdout",
          "text": [
            "I love Luciano Pavarotti and Jose Carreras .\n",
            "I love Luciano Pavarotti .\n",
            "I love Jose Carreras .\n",
            "\n"
          ]
        }
      ]
    },
    {
      "cell_type": "code",
      "source": [],
      "metadata": {
        "id": "TEKUvOawUN2r"
      },
      "execution_count": null,
      "outputs": []
    }
  ],
  "metadata": {
    "colab": {
      "provenance": [],
      "gpuType": "T4"
    },
    "kernelspec": {
      "display_name": "Python 3",
      "name": "python3"
    },
    "language_info": {
      "name": "python"
    }
  },
  "nbformat": 4,
  "nbformat_minor": 0
}