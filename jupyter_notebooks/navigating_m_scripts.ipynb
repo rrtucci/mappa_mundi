{
 "cells": [
  {
   "cell_type": "markdown",
   "id": "23f97fdb-f14d-484f-ba76-8ef93e735127",
   "metadata": {},
   "source": [
    "# Navigating Movie Scripts\n",
    "\n",
    "In this notebook, we explain\n",
    "how to do DEFT (DAG extraction from text)\n",
    "using as a test case, the following 3 movie scripts by Pixar/Disney.\n",
    "\n",
    "* [Toy Story](../m_scripts/toy-story.txt)\n",
    "* [Up](../m_scripts/up.txt)\n",
    "* [WALL-E](../m_scripts/wall-e.txt)"
   ]
  },
  {
   "cell_type": "code",
   "execution_count": 1,
   "id": "b3bf4efd-985c-4ab1-be2d-2d99d4561b70",
   "metadata": {
    "tags": []
   },
   "outputs": [
    {
     "name": "stdout",
     "output_type": "stream",
     "text": [
      "C:\\Users\\rrtuc\\Desktop\\backed-up\\python-projects\\mappa_mundi\n"
     ]
    }
   ],
   "source": [
    "# this makes sure it starts looking for things from the project folder down.\n",
    "import os\n",
    "import sys\n",
    "os.chdir('../')\n",
    "sys.path.insert(0,os.getcwd())\n",
    "print(os.getcwd())"
   ]
  },
  {
   "cell_type": "code",
   "execution_count": 2,
   "id": "53f7b627-4b11-429e-bfb3-96d797d11f15",
   "metadata": {
    "tags": []
   },
   "outputs": [
    {
     "name": "stdout",
     "output_type": "stream",
     "text": [
      "Welcome Causal AI Navigator. We have been waiting for you for millenia. Where would you like us to go next?\n"
     ]
    }
   ],
   "source": [
    "from utils import *\n",
    "print_welcome_message()"
   ]
  },
  {
   "cell_type": "markdown",
   "id": "61608ede-6eb5-487d-a42a-2c8e0606b258",
   "metadata": {},
   "source": [
    "## Global variables\n",
    "All the global variables used by Mappa Mundi are  in this file.\n",
    "Change with caution.\n",
    "\n",
    "\n",
    "[my_globals.py](../my_globals.py)"
   ]
  },
  {
   "cell_type": "markdown",
   "id": "5576eecf-e970-4127-854e-0bbe8e60ed7a",
   "metadata": {},
   "source": [
    "## Originals\n",
    "\n",
    "Here is the original form of the movie scripts, in the form they were downloaded\n",
    "from the IMSDb website.\n",
    "\n",
    "* [Toy Story](../m_scripts/toy-story.txt)\n",
    "* [Up](../m_scripts/up.txt)\n",
    "* [WALL-E](../m_scripts/wall-e.txt)"
   ]
  },
  {
   "cell_type": "markdown",
   "id": "fc6c107d-5ddc-4986-93f3-0704aa97fe32",
   "metadata": {},
   "source": [
    "## Cleaning\n",
    "\n",
    "The results of this step can be found in the **m_scripts_clean** \n",
    "directory.\n",
    "\n",
    "* [Toy Story (clean)](../m_scripts_clean/toy-story.txt)\n",
    "* [Up (clean)](../m_scripts_clean/up.txt)\n",
    "* [WALL-E (clean)](../m_scripts_clean/wall-e.txt)"
   ]
  },
  {
   "cell_type": "code",
   "execution_count": 3,
   "id": "129a0404-8190-4ccd-a7c2-5bad4629a37c",
   "metadata": {
    "tags": []
   },
   "outputs": [
    {
     "name": "stdout",
     "output_type": "stream",
     "text": [
      "1046.\n",
      "fetching toy-story.txt\n",
      "indent prob dist = [(0, 1.0), (1, 0.0)]\n",
      "dialog indents= [0]\n",
      "narration indents= []\n",
      "1072.\n",
      "fetching up.txt\n",
      "indent prob dist = [(0, 1.0)]\n",
      "dialog indents= [0]\n",
      "narration indents= []\n",
      "1085.\n",
      "fetching wall-e.txt\n",
      "indent prob dist = [(0, 0.998), (1, 0.002)]\n",
      "dialog indents= [0]\n",
      "narration indents= []\n"
     ]
    }
   ],
   "source": [
    "from cleaning import *\n",
    "\n",
    "remove_dialog = False\n",
    "# batch_file_names=my_listdir(M_SCRIPTS_DIR)\n",
    "batch_file_names = [\"toy-story.txt\", \"up.txt\", \"wall-e.txt\"]\n",
    "clean_batch_of_m_scripts(\n",
    "    in_dir=M_SCRIPTS_DIR,\n",
    "    out_dir=CLEAN_DIR if not remove_dialog else CLEAN_RD_DIR,\n",
    "    batch_file_names=batch_file_names,\n",
    "    remove_dialog=remove_dialog)"
   ]
  },
  {
   "cell_type": "markdown",
   "id": "7edb81c2-425e-4dca-88ee-6eab5eff6d9c",
   "metadata": {},
   "source": [
    "## Spell-checking\n",
    "\n",
    "The results of this step can be found in the **m_scripts_spell** directory\n",
    "\n",
    "* [Toy Story (spell)](../m_scripts_spell/toy-story.txt)\n",
    "* [Up (spell)](../m_scripts_spell/up.txt)\n",
    "* [WALL-E (spell)](../m_scripts_spell/wall-e.txt)"
   ]
  },
  {
   "cell_type": "code",
   "execution_count": 4,
   "id": "f267d8e1-a65c-4a9a-8949-2c6129eb82a7",
   "metadata": {
    "tags": []
   },
   "outputs": [
    {
     "name": "stdout",
     "output_type": "stream",
     "text": [
      "use_local_dict= True\n",
      "error_type= all\n",
      "SPELLING_CORRECTION_RISK= 1e-08\n",
      "\n",
      "1.\n",
      "toy-story.txt\n",
      "all changes: [('puttin', 'putting'), ('whirrrr', 'whirrr'), ('cuttin', 'cutting'), ('lyin', 'lying'), ('fellahs', 'fellas')]\n",
      "2.\n",
      "up.txt\n",
      "all changes: [('raaar', 'radar'), ('shoos', 'shows')]\n",
      "3.\n",
      "wall-e.txt\n",
      "all changes: [('spork', 'spark'), ('difficul', 'difficult'), ('neee', 'need')]\n"
     ]
    }
   ],
   "source": [
    "from spell_checking import *\n",
    "use_local_dict=True\n",
    "error_type = \"all\"\n",
    "\n",
    "print(\"use_local_dict=\", use_local_dict)\n",
    "print(\"error_type=\", error_type)\n",
    "print(\"SPELLING_CORRECTION_RISK=\", SPELLING_CORRECTION_RISK)\n",
    "print()\n",
    "\n",
    "in_dir = \"m_scripts_clean\"\n",
    "out_dir = \"m_scripts_spell\"\n",
    "batch_file_names = my_listdir(in_dir)\n",
    "correct_this_batch_of_files(in_dir,\n",
    "                            out_dir,\n",
    "                            batch_file_names,\n",
    "                            error_type= error_type,\n",
    "                            verbose=False,\n",
    "                            use_local_dict=use_local_dict)"
   ]
  },
  {
   "cell_type": "markdown",
   "id": "b720edec-32d6-4b97-9d9a-5ea826be728b",
   "metadata": {},
   "source": [
    "## Simplifying\n",
    "\n",
    "The results of this step can be found in the **m_scripts_simp** directory\n",
    "\n",
    "* [Toy Story (simp)](../m_scripts_simp/toy-story.txt)\n",
    "* [Up (simp)](../m_scripts_simp/up.txt)\n",
    "* [WALL-E (simp)](../m_scripts_simp/wall-e.txt)"
   ]
  },
  {
   "cell_type": "code",
   "execution_count": 5,
   "id": "c6ac5e87-29ad-48c5-b949-47cea8525602",
   "metadata": {
    "tags": []
   },
   "outputs": [
    {
     "name": "stdout",
     "output_type": "stream",
     "text": [
      "1. toy-story.txt\n",
      "2. up.txt\n",
      "3. wall-e.txt\n"
     ]
    }
   ],
   "source": [
    "from simplifying import *\n",
    "\n",
    "in_dir = \"m_scripts_spell\"\n",
    "out_dir = \"m_scripts_simp\"\n",
    "batch_file_names = my_listdir(in_dir)[0:3]\n",
    "simplify_batch_of_m_scripts(\n",
    "    in_dir, out_dir,\n",
    "    batch_file_names,\n",
    "    verbose=False)"
   ]
  },
  {
   "cell_type": "markdown",
   "id": "11c6fad3-c11a-47a3-9ac9-dac9306aeb47",
   "metadata": {
    "tags": []
   },
   "source": [
    "## DAG Atlas creation\n",
    "\n",
    "\n",
    "The results of this step found in the **m_scripts_dag_atlas** directory. They are 3 pickled \n",
    "files, one for each of the 3 movie scripts. They will be opened in the next step."
   ]
  },
  {
   "cell_type": "code",
   "execution_count": 6,
   "id": "82ad0b76-9838-4988-99a0-a56db05f19d7",
   "metadata": {},
   "outputs": [],
   "source": [
    "from DagAtlas import *\n",
    "\n"
   ]
  },
  {
   "cell_type": "markdown",
   "id": "94e104e5-032e-4780-9d41-b8ead468519c",
   "metadata": {
    "tags": []
   },
   "source": [
    "## Visualizing\n",
    "\n",
    "In this step, we a draw DAG for each of the 3 movie scripts, based on the\n",
    "pickled files in the **movie_scripts_dag_atlas** directory.\n",
    "We do this for 2 arrow repetition thresholds: 3, 4."
   ]
  },
  {
   "cell_type": "code",
   "execution_count": 7,
   "id": "6eb23105-a059-4383-aae3-da9429998da4",
   "metadata": {
    "tags": []
   },
   "outputs": [],
   "source": [
    "from Dag import *\n",
    "\n",
    "def visualize_all_dags(reps_threshold, draw):\n",
    "\n",
    "    dag_dir = \"m_scripts_dag_atlas\"\n",
    "    simp_dir = \"m_scripts_simp\"\n",
    "    clean_dir = \"m_scripts_clean\"\n",
    "    file_names = [file_name for\n",
    "                  file_name in my_listdir(dag_dir)[0:3]]\n",
    "    dags = []\n",
    "    for fname in file_names:\n",
    "        path = dag_dir + \"/\" + fname\n",
    "        with open(path, \"rb\") as f:\n",
    "            dag = pik.load(f)\n",
    "            dags.append(dag)\n",
    "    for dag in dags:\n",
    "        print(\"-------------------------\")\n",
    "        print(dag.m_title)\n",
    "        hreps_arrows = dag.build_high_reps_arrows(\n",
    "            reps_threshold)\n",
    "        print({arrow_str(arrow):dag.arrow_to_reps[arrow] \\\n",
    "               for arrow in hreps_arrows})\n",
    "        print()\n",
    "        if draw:\n",
    "            dag.draw(reps_threshold, jupyter=True)\n",
    "            dag.print_map_legend(clean_dir, simp_dir, reps_threshold)"
   ]
  },
  {
   "cell_type": "code",
   "execution_count": 8,
   "id": "78e315be-5372-4bf8-96ab-b6d5ad1fdadc",
   "metadata": {
    "tags": []
   },
   "outputs": [],
   "source": [
    "# visualize_all_dags(reps_threshold=4, draw=True)"
   ]
  },
  {
   "cell_type": "code",
   "execution_count": 9,
   "id": "75ce934e-c6b7-473d-8151-d472f58a93d9",
   "metadata": {
    "tags": []
   },
   "outputs": [],
   "source": [
    "# visualize_all_dags(reps_threshold=3, draw=True)"
   ]
  },
  {
   "cell_type": "code",
   "execution_count": null,
   "id": "d29a9749-c862-45ff-b884-c76cf04a7c77",
   "metadata": {},
   "outputs": [],
   "source": []
  }
 ],
 "metadata": {
  "kernelspec": {
   "display_name": "Python 3 (ipykernel)",
   "language": "python",
   "name": "python3"
  },
  "language_info": {
   "codemirror_mode": {
    "name": "ipython",
    "version": 3
   },
   "file_extension": ".py",
   "mimetype": "text/x-python",
   "name": "python",
   "nbconvert_exporter": "python",
   "pygments_lexer": "ipython3",
   "version": "3.10.9"
  }
 },
 "nbformat": 4,
 "nbformat_minor": 5
}
